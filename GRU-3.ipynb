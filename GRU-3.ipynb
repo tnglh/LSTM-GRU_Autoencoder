{
 "cells": [
  {
   "cell_type": "markdown",
   "metadata": {
    "id": "o40y8HxDYE3G"
   },
   "source": [
    "# Time Series Anomaly Detection using LSTM Autoencoders with PyTorch in Python"
   ]
  },
  {
   "cell_type": "code",
   "execution_count": 7,
   "metadata": {
    "colab": {
     "base_uri": "https://localhost:8080/"
    },
    "id": "NyPqdFSzUW8F",
    "outputId": "9a6d8faf-3a03-4b61-a208-ca5c6e262949",
    "scrolled": true
   },
   "outputs": [
    {
     "name": "stdout",
     "output_type": "stream",
     "text": [
      "zsh:1: command not found: nvidia-smi\r\n"
     ]
    }
   ],
   "source": [
    "!nvidia-smi"
   ]
  },
  {
   "cell_type": "code",
   "execution_count": 8,
   "metadata": {
    "id": "_9tHU5two_TW"
   },
   "outputs": [],
   "source": [
    "## !pip install -qq arff2pandas"
   ]
  },
  {
   "cell_type": "code",
   "execution_count": 9,
   "metadata": {
    "id": "XRYTtmMDtLuG"
   },
   "outputs": [
    {
     "name": "stdout",
     "output_type": "stream",
     "text": [
      "\r\n",
      "\u001b[1m[\u001b[0m\u001b[34;49mnotice\u001b[0m\u001b[1;39;49m]\u001b[0m\u001b[39;49m A new release of pip is available: \u001b[0m\u001b[31;49m24.2\u001b[0m\u001b[39;49m -> \u001b[0m\u001b[32;49m24.3.1\u001b[0m\r\n",
      "\u001b[1m[\u001b[0m\u001b[34;49mnotice\u001b[0m\u001b[1;39;49m]\u001b[0m\u001b[39;49m To update, run: \u001b[0m\u001b[32;49mpip install --upgrade pip\u001b[0m\r\n"
     ]
    }
   ],
   "source": [
    "!pip install -q -U watermark"
   ]
  },
  {
   "cell_type": "code",
   "execution_count": 10,
   "metadata": {
    "id": "-ugDZzk5bSju"
   },
   "outputs": [],
   "source": [
    "!pip install -qq -U pandas"
   ]
  },
  {
   "cell_type": "code",
   "execution_count": 11,
   "metadata": {
    "colab": {
     "base_uri": "https://localhost:8080/"
    },
    "id": "NgNwOV2jtODd",
    "outputId": "1f7a2d50-8042-4a06-a02d-bc8dccf3979f"
   },
   "outputs": [
    {
     "name": "stderr",
     "output_type": "stream",
     "text": [
      "/Users/Toan/anaconda3/lib/python3.11/site-packages/pandas/core/arrays/masked.py:60: UserWarning: Pandas requires version '1.3.6' or newer of 'bottleneck' (version '1.3.5' currently installed).\n",
      "  from pandas.core import (\n"
     ]
    },
    {
     "name": "stdout",
     "output_type": "stream",
     "text": [
      "Python implementation: CPython\n",
      "Python version       : 3.11.5\n",
      "IPython version      : 8.15.0\n",
      "\n",
      "numpy      : 1.24.3\n",
      "pandas     : 2.2.3\n",
      "torch      : 2.5.0\n",
      "arff2pandas: not installed\n",
      "\n"
     ]
    }
   ],
   "source": [
    "%reload_ext watermark\n",
    "%watermark -v -p numpy,pandas,torch,arff2pandas"
   ]
  },
  {
   "cell_type": "code",
   "execution_count": 12,
   "metadata": {
    "id": "3RY_N3gOmfDi"
   },
   "outputs": [],
   "source": [
    "import torch\n",
    "\n",
    "import copy\n",
    "import numpy as np\n",
    "import pandas as pd\n",
    "import seaborn as sns\n",
    "from pylab import rcParams\n",
    "import matplotlib.pyplot as plt\n",
    "from matplotlib import rc\n",
    "from sklearn.model_selection import train_test_split\n",
    "\n",
    "from torch import nn, optim\n",
    "\n",
    "import torch.nn.functional as F\n",
    "\n",
    "\n",
    "\n",
    "%matplotlib inline\n",
    "%config InlineBackend.figure_format='retina'\n",
    "\n",
    "sns.set(style='whitegrid', palette='muted', font_scale=1.2)\n",
    "\n",
    "HAPPY_COLORS_PALETTE = [\"#01BEFE\", \"#FFDD00\", \"#FF7D00\", \"#FF006D\", \"#ADFF02\", \"#8F00FF\"]\n",
    "\n",
    "sns.set_palette(sns.color_palette(HAPPY_COLORS_PALETTE))\n",
    "\n",
    "rcParams['figure.figsize'] = 12, 8\n",
    "\n",
    "#RANDOM_SEED = 42"
   ]
  },
  {
   "cell_type": "code",
   "execution_count": 13,
   "metadata": {
    "id": "5ZI34UQQSD0h"
   },
   "outputs": [],
   "source": [
    "def set_seed( RANDOM_SEED):\n",
    "  np.random.seed(RANDOM_SEED)\n",
    "  torch.manual_seed(RANDOM_SEED)"
   ]
  },
  {
   "cell_type": "code",
   "execution_count": 14,
   "metadata": {
    "id": "RHq3o01yVRXT"
   },
   "outputs": [],
   "source": [
    "#RANDOM_SEED = set_seed(RANDOM_SEED)"
   ]
  },
  {
   "cell_type": "markdown",
   "metadata": {
    "id": "RN0e4KktjE88"
   },
   "source": [
    "In this tutorial, you'll learn how to detect anomalies in Time Series data using an LSTM Autoencoder. You're going to use real-world ECG data from a single patient with heart disease to detect abnormal hearbeats.\n",
    "\n",
    "- [Read the tutorial](https://www.curiousily.com/posts/time-series-anomaly-detection-using-lstm-autoencoder-with-pytorch-in-python/)\n",
    "- [Run the notebook in your browser (Google Colab)](https://colab.research.google.com/drive/1_J2MrBSvsJfOcVmYAN2-WSp36BtsFZCa)\n",
    "- [Read the Getting Things Done with Pytorch book](https://github.com/curiousily/Getting-Things-Done-with-Pytorch)\n",
    "\n",
    "By the end of this tutorial, you'll learn how to:\n",
    "\n",
    "- Prepare a dataset for Anomaly Detection from Time Series Data\n",
    "- Build an LSTM Autoencoder with PyTorch\n",
    "- Train and evaluate your model\n",
    "- Choose a threshold for anomaly detection\n",
    "- Classify unseen examples as normal or anomaly"
   ]
  },
  {
   "cell_type": "markdown",
   "metadata": {
    "id": "ZnW3JsIFW_Yw"
   },
   "source": [
    "## Data\n",
    "\n",
    "\n",
    "\n",
    "The [dataset](http://timeseriesclassification.com/description.php?Dataset=ECG5000) contains 5,000 Time Series examples (obtained with ECG) with 140 timesteps. Each sequence corresponds to a single heartbeat from a single patient with congestive heart failure.\n",
    "\n",
    "> An electrocardiogram (ECG or EKG) is a test that checks how your heart is functioning by measuring the electrical activity of the heart. With each heart beat, an electrical impulse (or wave) travels through your heart. This wave causes the muscle to squeeze and pump blood from the heart. [Source](https://www.heartandstroke.ca/heart/tests/electrocardiogram)\n",
    "\n",
    "We have 5 types of hearbeats (classes):\n",
    "\n",
    "- Normal (N)\n",
    "- R-on-T Premature Ventricular Contraction (R-on-T PVC)\n",
    "- Premature Ventricular Contraction (PVC)\n",
    "- Supra-ventricular Premature or Ectopic Beat (SP or EB)\n",
    "- Unclassified Beat (UB).\n",
    "\n",
    "> Assuming a healthy heart and a typical rate of 70 to 75 beats per minute, each cardiac cycle, or heartbeat, takes about 0.8 seconds to complete the cycle.\n",
    "Frequency: 60–100 per minute (Humans)\n",
    "Duration: 0.6–1 second (Humans) [Source](https://en.wikipedia.org/wiki/Cardiac_cycle)\n",
    "\n",
    "The dataset is available on my Google Drive. Let's get it:"
   ]
  },
  {
   "cell_type": "code",
   "execution_count": 15,
   "metadata": {
    "colab": {
     "base_uri": "https://localhost:8080/"
    },
    "id": "7l8ob3P2aVtq",
    "outputId": "1a1147be-7fb6-4ca4-b3bf-ba031d93cbb8"
   },
   "outputs": [
    {
     "name": "stdout",
     "output_type": "stream",
     "text": [
      "Requirement already satisfied: gdown in /Users/Toan/anaconda3/lib/python3.11/site-packages (5.2.0)\n",
      "Requirement already satisfied: beautifulsoup4 in /Users/Toan/anaconda3/lib/python3.11/site-packages (from gdown) (4.12.2)\n",
      "Requirement already satisfied: filelock in /Users/Toan/anaconda3/lib/python3.11/site-packages (from gdown) (3.9.0)\n",
      "Requirement already satisfied: requests[socks] in /Users/Toan/anaconda3/lib/python3.11/site-packages (from gdown) (2.31.0)\n",
      "Requirement already satisfied: tqdm in /Users/Toan/anaconda3/lib/python3.11/site-packages (from gdown) (4.65.0)\n",
      "Requirement already satisfied: soupsieve>1.2 in /Users/Toan/anaconda3/lib/python3.11/site-packages (from beautifulsoup4->gdown) (2.4)\n",
      "Requirement already satisfied: charset-normalizer<4,>=2 in /Users/Toan/anaconda3/lib/python3.11/site-packages (from requests[socks]->gdown) (2.0.4)\n",
      "Requirement already satisfied: idna<4,>=2.5 in /Users/Toan/anaconda3/lib/python3.11/site-packages (from requests[socks]->gdown) (3.4)\n",
      "Requirement already satisfied: urllib3<3,>=1.21.1 in /Users/Toan/anaconda3/lib/python3.11/site-packages (from requests[socks]->gdown) (1.26.16)\n",
      "Requirement already satisfied: certifi>=2017.4.17 in /Users/Toan/anaconda3/lib/python3.11/site-packages (from requests[socks]->gdown) (2024.8.30)\n",
      "Requirement already satisfied: PySocks!=1.5.7,>=1.5.6 in /Users/Toan/anaconda3/lib/python3.11/site-packages (from requests[socks]->gdown) (1.7.1)\n",
      "\n",
      "\u001b[1m[\u001b[0m\u001b[34;49mnotice\u001b[0m\u001b[1;39;49m]\u001b[0m\u001b[39;49m A new release of pip is available: \u001b[0m\u001b[31;49m24.2\u001b[0m\u001b[39;49m -> \u001b[0m\u001b[32;49m24.3.1\u001b[0m\n",
      "\u001b[1m[\u001b[0m\u001b[34;49mnotice\u001b[0m\u001b[1;39;49m]\u001b[0m\u001b[39;49m To update, run: \u001b[0m\u001b[32;49mpip install --upgrade pip\u001b[0m\n"
     ]
    }
   ],
   "source": [
    "!pip install gdown"
   ]
  },
  {
   "cell_type": "code",
   "execution_count": 16,
   "metadata": {
    "colab": {
     "base_uri": "https://localhost:8080/"
    },
    "id": "dDlfeY2VAYdU",
    "outputId": "9cebfb20-2a01-4a3f-a67a-72bd6c245e0f"
   },
   "outputs": [
    {
     "name": "stdout",
     "output_type": "stream",
     "text": [
      "/Users/Toan/anaconda3/lib/python3.11/site-packages/gdown/__main__.py:140: FutureWarning: Option `--id` was deprecated in version 4.3.1 and will be removed in 5.0. You don't need to pass it anymore to use a file ID.\n",
      "  warnings.warn(\n",
      "Downloading...\n",
      "From: https://drive.google.com/uc?id=16MIleqoIr1vYxlGk4GKnGmrsCPuWkkpT\n",
      "To: /Users/Toan/LSTM-GRU_Autoencoder/ECG5000.zip\n",
      "100%|██████████████████████████████████████| 10.6M/10.6M [00:01<00:00, 9.70MB/s]\n"
     ]
    }
   ],
   "source": [
    "!gdown --id 16MIleqoIr1vYxlGk4GKnGmrsCPuWkkpT"
   ]
  },
  {
   "cell_type": "code",
   "execution_count": null,
   "metadata": {
    "id": "KG6QYE51aVtr"
   },
   "outputs": [],
   "source": []
  },
  {
   "cell_type": "code",
   "execution_count": null,
   "metadata": {
    "id": "j1DSTXjCifI0"
   },
   "outputs": [],
   "source": []
  },
  {
   "cell_type": "code",
   "execution_count": 17,
   "metadata": {
    "colab": {
     "background_save": true
    },
    "id": "L_gYlNi2AaOK",
    "outputId": "2fd72abf-a22e-4a1a-e25b-7b7071331e8b"
   },
   "outputs": [],
   "source": [
    "!unzip -qq ECG5000.zip\n"
   ]
  },
  {
   "cell_type": "code",
   "execution_count": 18,
   "metadata": {
    "colab": {
     "background_save": true
    },
    "id": "DFWsBcdWjDkU"
   },
   "outputs": [],
   "source": [
    "device = torch.device(\"cuda\" if torch.cuda.is_available() else \"cpu\")"
   ]
  },
  {
   "cell_type": "markdown",
   "metadata": {
    "id": "iVrX_m4CBAD6"
   },
   "source": [
    "The data comes in multiple formats. We'll load the `arff` files into Pandas data frames:"
   ]
  },
  {
   "cell_type": "code",
   "execution_count": 19,
   "metadata": {
    "colab": {
     "background_save": true
    },
    "id": "sh_8XjtEBVYq"
   },
   "outputs": [],
   "source": [
    "\n",
    "\n",
    "import scipy.io.arff as arff\n",
    "\n",
    "\n",
    "# Load training data\n",
    "with open('ECG5000_TRAIN.arff', 'r') as f:\n",
    "    train_data, train_meta = arff.loadarff(f)\n",
    "\n",
    "# Load test data\n",
    "with open('ECG5000_TEST.arff', 'r') as f:\n",
    "    test_data, test_meta = arff.loadarff(f)\n",
    "\n",
    "# Convert the ARFF data to Pandas DataFrames\n",
    "train = pd.DataFrame(train_data)\n",
    "test = pd.DataFrame(test_data)\n"
   ]
  },
  {
   "cell_type": "markdown",
   "metadata": {
    "id": "UDtaZ2uTCG11"
   },
   "source": [
    "We'll combine the training and test data into a single data frame. This will give us more data to train our Autoencoder. We'll also shuffle it:"
   ]
  },
  {
   "cell_type": "code",
   "execution_count": 20,
   "metadata": {
    "colab": {
     "background_save": true,
     "base_uri": "https://localhost:8080/"
    },
    "id": "tAyxwvbB5-9o",
    "outputId": "569be18d-6a73-4235-ec99-3cf9818803e9"
   },
   "outputs": [
    {
     "data": {
      "text/plain": [
       "(5000, 141)"
      ]
     },
     "execution_count": 20,
     "metadata": {},
     "output_type": "execute_result"
    }
   ],
   "source": [
    "df = pd.concat([train, test])  ## combine train and test data\n",
    "df = df.sample(frac=1.0) ## shuffle df (frac = 1.0 means 100%)\n",
    "df.shape"
   ]
  },
  {
   "cell_type": "code",
   "execution_count": 21,
   "metadata": {
    "colab": {
     "background_save": true,
     "base_uri": "https://localhost:8080/",
     "height": 253
    },
    "id": "KpkkVdrLCSAs",
    "outputId": "05e52d85-e110-4742-f435-e84395ebb1c4"
   },
   "outputs": [
    {
     "data": {
      "text/html": [
       "<div>\n",
       "<style scoped>\n",
       "    .dataframe tbody tr th:only-of-type {\n",
       "        vertical-align: middle;\n",
       "    }\n",
       "\n",
       "    .dataframe tbody tr th {\n",
       "        vertical-align: top;\n",
       "    }\n",
       "\n",
       "    .dataframe thead th {\n",
       "        text-align: right;\n",
       "    }\n",
       "</style>\n",
       "<table border=\"1\" class=\"dataframe\">\n",
       "  <thead>\n",
       "    <tr style=\"text-align: right;\">\n",
       "      <th></th>\n",
       "      <th>att1</th>\n",
       "      <th>att2</th>\n",
       "      <th>att3</th>\n",
       "      <th>att4</th>\n",
       "      <th>att5</th>\n",
       "      <th>att6</th>\n",
       "      <th>att7</th>\n",
       "      <th>att8</th>\n",
       "      <th>att9</th>\n",
       "      <th>att10</th>\n",
       "      <th>...</th>\n",
       "      <th>att132</th>\n",
       "      <th>att133</th>\n",
       "      <th>att134</th>\n",
       "      <th>att135</th>\n",
       "      <th>att136</th>\n",
       "      <th>att137</th>\n",
       "      <th>att138</th>\n",
       "      <th>att139</th>\n",
       "      <th>att140</th>\n",
       "      <th>target</th>\n",
       "    </tr>\n",
       "  </thead>\n",
       "  <tbody>\n",
       "    <tr>\n",
       "      <th>3285</th>\n",
       "      <td>0.129796</td>\n",
       "      <td>-0.830947</td>\n",
       "      <td>-1.508443</td>\n",
       "      <td>-2.051340</td>\n",
       "      <td>-2.475488</td>\n",
       "      <td>-2.719864</td>\n",
       "      <td>-2.630177</td>\n",
       "      <td>-2.435304</td>\n",
       "      <td>-2.338217</td>\n",
       "      <td>-2.075241</td>\n",
       "      <td>...</td>\n",
       "      <td>-3.321195</td>\n",
       "      <td>-3.634313</td>\n",
       "      <td>-3.445742</td>\n",
       "      <td>-2.617770</td>\n",
       "      <td>-1.819856</td>\n",
       "      <td>-0.939620</td>\n",
       "      <td>-0.091122</td>\n",
       "      <td>-0.286478</td>\n",
       "      <td>0.028200</td>\n",
       "      <td>b'2'</td>\n",
       "    </tr>\n",
       "    <tr>\n",
       "      <th>3283</th>\n",
       "      <td>-1.182588</td>\n",
       "      <td>-2.231639</td>\n",
       "      <td>-2.632605</td>\n",
       "      <td>-2.947437</td>\n",
       "      <td>-2.939669</td>\n",
       "      <td>-2.918581</td>\n",
       "      <td>-2.837352</td>\n",
       "      <td>-2.651884</td>\n",
       "      <td>-2.227810</td>\n",
       "      <td>-1.556203</td>\n",
       "      <td>...</td>\n",
       "      <td>-2.031325</td>\n",
       "      <td>-2.610457</td>\n",
       "      <td>-3.179699</td>\n",
       "      <td>-3.434878</td>\n",
       "      <td>-3.082703</td>\n",
       "      <td>-2.212933</td>\n",
       "      <td>-1.084465</td>\n",
       "      <td>-0.442920</td>\n",
       "      <td>0.101657</td>\n",
       "      <td>b'2'</td>\n",
       "    </tr>\n",
       "    <tr>\n",
       "      <th>3888</th>\n",
       "      <td>-0.609537</td>\n",
       "      <td>-1.183342</td>\n",
       "      <td>-1.530039</td>\n",
       "      <td>-2.144049</td>\n",
       "      <td>-2.532136</td>\n",
       "      <td>-2.756639</td>\n",
       "      <td>-2.484698</td>\n",
       "      <td>-1.983583</td>\n",
       "      <td>-1.480946</td>\n",
       "      <td>-0.973769</td>\n",
       "      <td>...</td>\n",
       "      <td>0.137930</td>\n",
       "      <td>-0.526754</td>\n",
       "      <td>-1.142398</td>\n",
       "      <td>-1.975388</td>\n",
       "      <td>-2.455193</td>\n",
       "      <td>-3.592613</td>\n",
       "      <td>-4.214078</td>\n",
       "      <td>-4.729437</td>\n",
       "      <td>-3.762342</td>\n",
       "      <td>b'2'</td>\n",
       "    </tr>\n",
       "    <tr>\n",
       "      <th>2076</th>\n",
       "      <td>-0.085683</td>\n",
       "      <td>-1.978614</td>\n",
       "      <td>-3.122206</td>\n",
       "      <td>-3.611664</td>\n",
       "      <td>-3.871482</td>\n",
       "      <td>-3.407097</td>\n",
       "      <td>-2.497941</td>\n",
       "      <td>-1.929080</td>\n",
       "      <td>-1.668473</td>\n",
       "      <td>-1.146618</td>\n",
       "      <td>...</td>\n",
       "      <td>1.408030</td>\n",
       "      <td>1.339557</td>\n",
       "      <td>1.334414</td>\n",
       "      <td>1.369980</td>\n",
       "      <td>0.922517</td>\n",
       "      <td>0.522571</td>\n",
       "      <td>0.215276</td>\n",
       "      <td>0.879588</td>\n",
       "      <td>0.478415</td>\n",
       "      <td>b'1'</td>\n",
       "    </tr>\n",
       "    <tr>\n",
       "      <th>4246</th>\n",
       "      <td>-0.613071</td>\n",
       "      <td>-1.946722</td>\n",
       "      <td>-2.571816</td>\n",
       "      <td>-2.858124</td>\n",
       "      <td>-2.822578</td>\n",
       "      <td>-2.841525</td>\n",
       "      <td>-2.563754</td>\n",
       "      <td>-2.144737</td>\n",
       "      <td>-1.498368</td>\n",
       "      <td>-0.960142</td>\n",
       "      <td>...</td>\n",
       "      <td>-0.644965</td>\n",
       "      <td>-1.229183</td>\n",
       "      <td>-1.991648</td>\n",
       "      <td>-2.880351</td>\n",
       "      <td>-3.625326</td>\n",
       "      <td>-4.207779</td>\n",
       "      <td>-3.326135</td>\n",
       "      <td>-2.599661</td>\n",
       "      <td>-1.207875</td>\n",
       "      <td>b'2'</td>\n",
       "    </tr>\n",
       "  </tbody>\n",
       "</table>\n",
       "<p>5 rows × 141 columns</p>\n",
       "</div>"
      ],
      "text/plain": [
       "          att1      att2      att3      att4      att5      att6      att7  \\\n",
       "3285  0.129796 -0.830947 -1.508443 -2.051340 -2.475488 -2.719864 -2.630177   \n",
       "3283 -1.182588 -2.231639 -2.632605 -2.947437 -2.939669 -2.918581 -2.837352   \n",
       "3888 -0.609537 -1.183342 -1.530039 -2.144049 -2.532136 -2.756639 -2.484698   \n",
       "2076 -0.085683 -1.978614 -3.122206 -3.611664 -3.871482 -3.407097 -2.497941   \n",
       "4246 -0.613071 -1.946722 -2.571816 -2.858124 -2.822578 -2.841525 -2.563754   \n",
       "\n",
       "          att8      att9     att10  ...    att132    att133    att134  \\\n",
       "3285 -2.435304 -2.338217 -2.075241  ... -3.321195 -3.634313 -3.445742   \n",
       "3283 -2.651884 -2.227810 -1.556203  ... -2.031325 -2.610457 -3.179699   \n",
       "3888 -1.983583 -1.480946 -0.973769  ...  0.137930 -0.526754 -1.142398   \n",
       "2076 -1.929080 -1.668473 -1.146618  ...  1.408030  1.339557  1.334414   \n",
       "4246 -2.144737 -1.498368 -0.960142  ... -0.644965 -1.229183 -1.991648   \n",
       "\n",
       "        att135    att136    att137    att138    att139    att140  target  \n",
       "3285 -2.617770 -1.819856 -0.939620 -0.091122 -0.286478  0.028200    b'2'  \n",
       "3283 -3.434878 -3.082703 -2.212933 -1.084465 -0.442920  0.101657    b'2'  \n",
       "3888 -1.975388 -2.455193 -3.592613 -4.214078 -4.729437 -3.762342    b'2'  \n",
       "2076  1.369980  0.922517  0.522571  0.215276  0.879588  0.478415    b'1'  \n",
       "4246 -2.880351 -3.625326 -4.207779 -3.326135 -2.599661 -1.207875    b'2'  \n",
       "\n",
       "[5 rows x 141 columns]"
      ]
     },
     "execution_count": 21,
     "metadata": {},
     "output_type": "execute_result"
    }
   ],
   "source": [
    "df.head()"
   ]
  },
  {
   "cell_type": "markdown",
   "metadata": {
    "id": "K_f7F-ipCZNH"
   },
   "source": [
    "We have 5,000 examples. Each row represents a single heartbeat record. Let's name the possible classes:"
   ]
  },
  {
   "cell_type": "code",
   "execution_count": 22,
   "metadata": {
    "colab": {
     "background_save": true
    },
    "id": "9fcKHB5rcDcm"
   },
   "outputs": [],
   "source": [
    "CLASS_NORMAL = 1\n",
    "\n",
    "class_names = ['Normal','R on T','PVC','SP','UB']"
   ]
  },
  {
   "cell_type": "markdown",
   "metadata": {
    "id": "TFWOyTF3CpgT"
   },
   "source": [
    "Next, we'll rename the last column to `target`, so its easier to reference it:"
   ]
  },
  {
   "cell_type": "code",
   "execution_count": 23,
   "metadata": {
    "colab": {
     "background_save": true
    },
    "id": "6bfjzgJ7YEww"
   },
   "outputs": [],
   "source": [
    "new_columns = list(df.columns)\n",
    "new_columns[-1] = 'target'\n",
    "df.columns = new_columns"
   ]
  },
  {
   "cell_type": "code",
   "execution_count": 24,
   "metadata": {
    "colab": {
     "background_save": true
    },
    "id": "PbdqWWKo3Qoi"
   },
   "outputs": [],
   "source": [
    "df['target'] = df['target'].apply(lambda x: x.decode('utf-8') if isinstance(x, bytes) else x)\n",
    "\n"
   ]
  },
  {
   "cell_type": "markdown",
   "metadata": {
    "id": "nlf5aVLnjRCz"
   },
   "source": [
    "## Exploratory Data Analysis\n",
    "\n",
    "Let's check how many examples for each heartbeat class do we have:"
   ]
  },
  {
   "cell_type": "code",
   "execution_count": 25,
   "metadata": {
    "colab": {
     "background_save": true,
     "base_uri": "https://localhost:8080/",
     "height": 269
    },
    "id": "QBxuqD1cdd2y",
    "outputId": "a652ada2-009d-4286-a340-92851cd04668"
   },
   "outputs": [
    {
     "data": {
      "text/plain": [
       "target\n",
       "1    2919\n",
       "2    1767\n",
       "4     194\n",
       "3      96\n",
       "5      24\n",
       "Name: count, dtype: int64"
      ]
     },
     "execution_count": 25,
     "metadata": {},
     "output_type": "execute_result"
    }
   ],
   "source": [
    "df.target.value_counts()"
   ]
  },
  {
   "cell_type": "markdown",
   "metadata": {
    "id": "2EZVZYCsQKXV"
   },
   "source": [
    "Let's plot the results:"
   ]
  },
  {
   "cell_type": "code",
   "execution_count": 28,
   "metadata": {
    "colab": {
     "background_save": true,
     "base_uri": "https://localhost:8080/",
     "height": 710
    },
    "id": "wn4s427Sf4eb",
    "outputId": "c21d3db1-334c-43e9-db2e-4f590f0f8c5b"
   },
   "outputs": [
    {
     "ename": "ValueError",
     "evalue": "If using all scalar values, you must pass an index",
     "output_type": "error",
     "traceback": [
      "\u001b[0;31m---------------------------------------------------------------------------\u001b[0m",
      "\u001b[0;31mValueError\u001b[0m                                Traceback (most recent call last)",
      "Cell \u001b[0;32mIn[28], line 1\u001b[0m\n\u001b[0;32m----> 1\u001b[0m ax \u001b[38;5;241m=\u001b[39m sns\u001b[38;5;241m.\u001b[39mcountplot(df\u001b[38;5;241m.\u001b[39mtarget)\n\u001b[1;32m      2\u001b[0m \u001b[38;5;66;03m#ax.set_xticks([0, 1, 2, 3, 4])\u001b[39;00m\n\u001b[1;32m      3\u001b[0m ax\u001b[38;5;241m.\u001b[39mset_xticklabels(class_names)\n",
      "File \u001b[0;32m~/anaconda3/lib/python3.11/site-packages/seaborn/categorical.py:2943\u001b[0m, in \u001b[0;36mcountplot\u001b[0;34m(data, x, y, hue, order, hue_order, orient, color, palette, saturation, width, dodge, ax, **kwargs)\u001b[0m\n\u001b[1;32m   2940\u001b[0m \u001b[38;5;28;01melif\u001b[39;00m x \u001b[38;5;129;01mis\u001b[39;00m \u001b[38;5;129;01mnot\u001b[39;00m \u001b[38;5;28;01mNone\u001b[39;00m \u001b[38;5;129;01mand\u001b[39;00m y \u001b[38;5;129;01mis\u001b[39;00m \u001b[38;5;129;01mnot\u001b[39;00m \u001b[38;5;28;01mNone\u001b[39;00m:\n\u001b[1;32m   2941\u001b[0m     \u001b[38;5;28;01mraise\u001b[39;00m \u001b[38;5;167;01mValueError\u001b[39;00m(\u001b[38;5;124m\"\u001b[39m\u001b[38;5;124mCannot pass values for both `x` and `y`\u001b[39m\u001b[38;5;124m\"\u001b[39m)\n\u001b[0;32m-> 2943\u001b[0m plotter \u001b[38;5;241m=\u001b[39m _CountPlotter(\n\u001b[1;32m   2944\u001b[0m     x, y, hue, data, order, hue_order,\n\u001b[1;32m   2945\u001b[0m     estimator, errorbar, n_boot, units, seed,\n\u001b[1;32m   2946\u001b[0m     orient, color, palette, saturation,\n\u001b[1;32m   2947\u001b[0m     width, errcolor, errwidth, capsize, dodge\n\u001b[1;32m   2948\u001b[0m )\n\u001b[1;32m   2950\u001b[0m plotter\u001b[38;5;241m.\u001b[39mvalue_label \u001b[38;5;241m=\u001b[39m \u001b[38;5;124m\"\u001b[39m\u001b[38;5;124mcount\u001b[39m\u001b[38;5;124m\"\u001b[39m\n\u001b[1;32m   2952\u001b[0m \u001b[38;5;28;01mif\u001b[39;00m ax \u001b[38;5;129;01mis\u001b[39;00m \u001b[38;5;28;01mNone\u001b[39;00m:\n",
      "File \u001b[0;32m~/anaconda3/lib/python3.11/site-packages/seaborn/categorical.py:1533\u001b[0m, in \u001b[0;36m_BarPlotter.__init__\u001b[0;34m(self, x, y, hue, data, order, hue_order, estimator, errorbar, n_boot, units, seed, orient, color, palette, saturation, width, errcolor, errwidth, capsize, dodge)\u001b[0m\n\u001b[1;32m   1530\u001b[0m \u001b[38;5;28mself\u001b[39m\u001b[38;5;241m.\u001b[39mestablish_variables(x, y, hue, data, orient,\n\u001b[1;32m   1531\u001b[0m                          order, hue_order, units)\n\u001b[1;32m   1532\u001b[0m \u001b[38;5;28mself\u001b[39m\u001b[38;5;241m.\u001b[39mestablish_colors(color, palette, saturation)\n\u001b[0;32m-> 1533\u001b[0m \u001b[38;5;28mself\u001b[39m\u001b[38;5;241m.\u001b[39mestimate_statistic(estimator, errorbar, n_boot, seed)\n\u001b[1;32m   1535\u001b[0m \u001b[38;5;28mself\u001b[39m\u001b[38;5;241m.\u001b[39mdodge \u001b[38;5;241m=\u001b[39m dodge\n\u001b[1;32m   1536\u001b[0m \u001b[38;5;28mself\u001b[39m\u001b[38;5;241m.\u001b[39mwidth \u001b[38;5;241m=\u001b[39m width\n",
      "File \u001b[0;32m~/anaconda3/lib/python3.11/site-packages/seaborn/categorical.py:1457\u001b[0m, in \u001b[0;36m_CategoricalStatPlotter.estimate_statistic\u001b[0;34m(self, estimator, errorbar, n_boot, seed)\u001b[0m\n\u001b[1;32m   1451\u001b[0m \u001b[38;5;28;01mfor\u001b[39;00m i, group_data \u001b[38;5;129;01min\u001b[39;00m \u001b[38;5;28menumerate\u001b[39m(\u001b[38;5;28mself\u001b[39m\u001b[38;5;241m.\u001b[39mplot_data):\n\u001b[1;32m   1452\u001b[0m \n\u001b[1;32m   1453\u001b[0m     \u001b[38;5;66;03m# Option 1: we have a single layer of grouping\u001b[39;00m\n\u001b[1;32m   1454\u001b[0m     \u001b[38;5;66;03m# --------------------------------------------\u001b[39;00m\n\u001b[1;32m   1455\u001b[0m     \u001b[38;5;28;01mif\u001b[39;00m \u001b[38;5;28mself\u001b[39m\u001b[38;5;241m.\u001b[39mplot_hues \u001b[38;5;129;01mis\u001b[39;00m \u001b[38;5;28;01mNone\u001b[39;00m:\n\u001b[0;32m-> 1457\u001b[0m         df \u001b[38;5;241m=\u001b[39m pd\u001b[38;5;241m.\u001b[39mDataFrame({var: group_data})\n\u001b[1;32m   1458\u001b[0m         \u001b[38;5;28;01mif\u001b[39;00m \u001b[38;5;28mself\u001b[39m\u001b[38;5;241m.\u001b[39mplot_units \u001b[38;5;129;01mis\u001b[39;00m \u001b[38;5;129;01mnot\u001b[39;00m \u001b[38;5;28;01mNone\u001b[39;00m:\n\u001b[1;32m   1459\u001b[0m             df[\u001b[38;5;124m\"\u001b[39m\u001b[38;5;124munits\u001b[39m\u001b[38;5;124m\"\u001b[39m] \u001b[38;5;241m=\u001b[39m \u001b[38;5;28mself\u001b[39m\u001b[38;5;241m.\u001b[39mplot_units[i]\n",
      "File \u001b[0;32m~/anaconda3/lib/python3.11/site-packages/pandas/core/frame.py:778\u001b[0m, in \u001b[0;36mDataFrame.__init__\u001b[0;34m(self, data, index, columns, dtype, copy)\u001b[0m\n\u001b[1;32m    772\u001b[0m     mgr \u001b[38;5;241m=\u001b[39m \u001b[38;5;28mself\u001b[39m\u001b[38;5;241m.\u001b[39m_init_mgr(\n\u001b[1;32m    773\u001b[0m         data, axes\u001b[38;5;241m=\u001b[39m{\u001b[38;5;124m\"\u001b[39m\u001b[38;5;124mindex\u001b[39m\u001b[38;5;124m\"\u001b[39m: index, \u001b[38;5;124m\"\u001b[39m\u001b[38;5;124mcolumns\u001b[39m\u001b[38;5;124m\"\u001b[39m: columns}, dtype\u001b[38;5;241m=\u001b[39mdtype, copy\u001b[38;5;241m=\u001b[39mcopy\n\u001b[1;32m    774\u001b[0m     )\n\u001b[1;32m    776\u001b[0m \u001b[38;5;28;01melif\u001b[39;00m \u001b[38;5;28misinstance\u001b[39m(data, \u001b[38;5;28mdict\u001b[39m):\n\u001b[1;32m    777\u001b[0m     \u001b[38;5;66;03m# GH#38939 de facto copy defaults to False only in non-dict cases\u001b[39;00m\n\u001b[0;32m--> 778\u001b[0m     mgr \u001b[38;5;241m=\u001b[39m dict_to_mgr(data, index, columns, dtype\u001b[38;5;241m=\u001b[39mdtype, copy\u001b[38;5;241m=\u001b[39mcopy, typ\u001b[38;5;241m=\u001b[39mmanager)\n\u001b[1;32m    779\u001b[0m \u001b[38;5;28;01melif\u001b[39;00m \u001b[38;5;28misinstance\u001b[39m(data, ma\u001b[38;5;241m.\u001b[39mMaskedArray):\n\u001b[1;32m    780\u001b[0m     \u001b[38;5;28;01mfrom\u001b[39;00m \u001b[38;5;21;01mnumpy\u001b[39;00m\u001b[38;5;21;01m.\u001b[39;00m\u001b[38;5;21;01mma\u001b[39;00m \u001b[38;5;28;01mimport\u001b[39;00m mrecords\n",
      "File \u001b[0;32m~/anaconda3/lib/python3.11/site-packages/pandas/core/internals/construction.py:503\u001b[0m, in \u001b[0;36mdict_to_mgr\u001b[0;34m(data, index, columns, dtype, typ, copy)\u001b[0m\n\u001b[1;32m    499\u001b[0m     \u001b[38;5;28;01melse\u001b[39;00m:\n\u001b[1;32m    500\u001b[0m         \u001b[38;5;66;03m# dtype check to exclude e.g. range objects, scalars\u001b[39;00m\n\u001b[1;32m    501\u001b[0m         arrays \u001b[38;5;241m=\u001b[39m [x\u001b[38;5;241m.\u001b[39mcopy() \u001b[38;5;28;01mif\u001b[39;00m \u001b[38;5;28mhasattr\u001b[39m(x, \u001b[38;5;124m\"\u001b[39m\u001b[38;5;124mdtype\u001b[39m\u001b[38;5;124m\"\u001b[39m) \u001b[38;5;28;01melse\u001b[39;00m x \u001b[38;5;28;01mfor\u001b[39;00m x \u001b[38;5;129;01min\u001b[39;00m arrays]\n\u001b[0;32m--> 503\u001b[0m \u001b[38;5;28;01mreturn\u001b[39;00m arrays_to_mgr(arrays, columns, index, dtype\u001b[38;5;241m=\u001b[39mdtype, typ\u001b[38;5;241m=\u001b[39mtyp, consolidate\u001b[38;5;241m=\u001b[39mcopy)\n",
      "File \u001b[0;32m~/anaconda3/lib/python3.11/site-packages/pandas/core/internals/construction.py:114\u001b[0m, in \u001b[0;36marrays_to_mgr\u001b[0;34m(arrays, columns, index, dtype, verify_integrity, typ, consolidate)\u001b[0m\n\u001b[1;32m    111\u001b[0m \u001b[38;5;28;01mif\u001b[39;00m verify_integrity:\n\u001b[1;32m    112\u001b[0m     \u001b[38;5;66;03m# figure out the index, if necessary\u001b[39;00m\n\u001b[1;32m    113\u001b[0m     \u001b[38;5;28;01mif\u001b[39;00m index \u001b[38;5;129;01mis\u001b[39;00m \u001b[38;5;28;01mNone\u001b[39;00m:\n\u001b[0;32m--> 114\u001b[0m         index \u001b[38;5;241m=\u001b[39m _extract_index(arrays)\n\u001b[1;32m    115\u001b[0m     \u001b[38;5;28;01melse\u001b[39;00m:\n\u001b[1;32m    116\u001b[0m         index \u001b[38;5;241m=\u001b[39m ensure_index(index)\n",
      "File \u001b[0;32m~/anaconda3/lib/python3.11/site-packages/pandas/core/internals/construction.py:667\u001b[0m, in \u001b[0;36m_extract_index\u001b[0;34m(data)\u001b[0m\n\u001b[1;32m    664\u001b[0m         \u001b[38;5;28;01mraise\u001b[39;00m \u001b[38;5;167;01mValueError\u001b[39;00m(\u001b[38;5;124m\"\u001b[39m\u001b[38;5;124mPer-column arrays must each be 1-dimensional\u001b[39m\u001b[38;5;124m\"\u001b[39m)\n\u001b[1;32m    666\u001b[0m \u001b[38;5;28;01mif\u001b[39;00m \u001b[38;5;129;01mnot\u001b[39;00m indexes \u001b[38;5;129;01mand\u001b[39;00m \u001b[38;5;129;01mnot\u001b[39;00m raw_lengths:\n\u001b[0;32m--> 667\u001b[0m     \u001b[38;5;28;01mraise\u001b[39;00m \u001b[38;5;167;01mValueError\u001b[39;00m(\u001b[38;5;124m\"\u001b[39m\u001b[38;5;124mIf using all scalar values, you must pass an index\u001b[39m\u001b[38;5;124m\"\u001b[39m)\n\u001b[1;32m    669\u001b[0m \u001b[38;5;28;01mif\u001b[39;00m have_series:\n\u001b[1;32m    670\u001b[0m     index \u001b[38;5;241m=\u001b[39m union_indexes(indexes)\n",
      "\u001b[0;31mValueError\u001b[0m: If using all scalar values, you must pass an index"
     ]
    }
   ],
   "source": [
    "ax = sns.countplot(df.target)\n",
    "#ax.set_xticks([0, 1, 2, 3, 4])\n",
    "ax.set_xticklabels(class_names);"
   ]
  },
  {
   "cell_type": "markdown",
   "metadata": {
    "id": "e2m55fTyRNIf"
   },
   "source": [
    "The normal class, has by far, the most examples. This is great because we'll use it to train our model.\n",
    "\n",
    "Let's have a look at an averaged (smoothed out with one standard deviation on top and bottom of it) Time Series for each class:"
   ]
  },
  {
   "cell_type": "code",
   "execution_count": 29,
   "metadata": {
    "colab": {
     "background_save": true
    },
    "id": "UVvG0vhiU-ju"
   },
   "outputs": [],
   "source": [
    "def plot_time_series_class(data, class_name, ax, n_steps=10):\n",
    "  time_series_df = pd.DataFrame(data)\n",
    "\n",
    "  smooth_path = time_series_df.rolling(n_steps).mean()\n",
    "  path_deviation = 2 * time_series_df.rolling(n_steps).std()\n",
    "\n",
    "  under_line = (smooth_path - path_deviation)[0]\n",
    "  over_line = (smooth_path + path_deviation)[0]\n",
    "\n",
    "  ax.plot(smooth_path, linewidth=2)\n",
    "  ax.fill_between(\n",
    "    path_deviation.index,\n",
    "    under_line,\n",
    "    over_line,\n",
    "    alpha=.125\n",
    "  )\n",
    "  ax.set_title(class_name)"
   ]
  },
  {
   "cell_type": "code",
   "execution_count": 30,
   "metadata": {
    "colab": {
     "background_save": true
    },
    "id": "xHaslHZ8JMSk",
    "outputId": "aa8a532d-63bd-4f09-c242-5477340f46b2"
   },
   "outputs": [
    {
     "data": {
      "image/png": "[encoded data removed]",
      "text/plain": [
       "<Figure size 1400x800 with 5 Axes>"
      ]
     },
     "metadata": {
      "image/png": {
       "height": 774,
       "width": 1376
      }
     },
     "output_type": "display_data"
    }
   ],
   "source": [
    "classes = df.target.unique()\n",
    "\n",
    "fig, axs = plt.subplots(\n",
    "  nrows=len(classes) // 3 + 1,\n",
    "  ncols=3,\n",
    "  sharey=True,\n",
    "  figsize=(14, 8)\n",
    ")\n",
    "\n",
    "for i, cls in enumerate(classes):\n",
    "  ax = axs.flat[i]\n",
    "  data = df[df.target == cls] \\\n",
    "    .drop(labels='target', axis=1) \\\n",
    "    .mean(axis=0) \\\n",
    "    .to_numpy()\n",
    "  plot_time_series_class(data, class_names[i], ax)\n",
    "\n",
    "fig.delaxes(axs.flat[-1])\n",
    "fig.tight_layout();"
   ]
  },
  {
   "cell_type": "markdown",
   "metadata": {
    "id": "jDt33QoDTUIb"
   },
   "source": [
    "It is very good that the normal class has a distinctly different pattern than all other classes. Maybe our model will be able to detect anomalies?"
   ]
  },
  {
   "cell_type": "markdown",
   "metadata": {
    "id": "gJRQl1p0Q57K"
   },
   "source": [
    "## LSTM Autoencoder\n",
    "\n",
    "The [Autoencoder's](https://en.wikipedia.org/wiki/Autoencoder) job is to get some input data, pass it through the model, and obtain a reconstruction of the input. The reconstruction should match the input as much as possible. The trick is to use a small number of parameters, so your model learns a compressed representation of the data.\n",
    "\n",
    "In a sense, Autoencoders try to learn only the most important features (compressed version) of the data. Here, we'll have a look at how to feed Time Series data to an Autoencoder. We'll use a couple of LSTM layers (hence the LSTM Autoencoder) to capture the temporal dependencies of the data.\n",
    "\n",
    "To classify a sequence as normal or an anomaly, we'll pick a threshold above which a heartbeat is considered abnormal.\n",
    "\n",
    "### Reconstruction Loss\n",
    "\n",
    "When training an Autoencoder, the objective is to reconstruct the input as best as possible. This is done by minimizing a loss function (just like in supervised learning). This function is known as *reconstruction loss*. Cross-entropy loss and Mean squared error are common examples."
   ]
  },
  {
   "cell_type": "markdown",
   "metadata": {
    "id": "eFZ3o2F8eUaW"
   },
   "source": [
    "## Anomaly Detection in ECG Data\n",
    "\n",
    "We'll use normal heartbeats as training data for our model and record the *reconstruction loss*. But first, we need to prepare the data:"
   ]
  },
  {
   "cell_type": "markdown",
   "metadata": {
    "id": "QGKKj6fgUV_a"
   },
   "source": [
    "### Data Preprocessing\n",
    "\n",
    "Let's get all normal heartbeats and drop the target (class) column:"
   ]
  },
  {
   "cell_type": "code",
   "execution_count": 31,
   "metadata": {
    "colab": {
     "background_save": true
    },
    "id": "NA0k8mTijyh-",
    "outputId": "e88a8beb-962e-40ec-d79f-8a588c2fd212"
   },
   "outputs": [
    {
     "data": {
      "text/plain": [
       "(2919, 141)"
      ]
     },
     "execution_count": 31,
     "metadata": {},
     "output_type": "execute_result"
    }
   ],
   "source": [
    "normal_df = df[df.target == str(CLASS_NORMAL)] #.drop(labels='target', axis=1)\n",
    "#normal_target_df = df[df.target == str(CLASS_NORMAL)]['target'].copy()\n",
    "normal_df.shape"
   ]
  },
  {
   "cell_type": "markdown",
   "metadata": {
    "id": "PRCZ7uviaI1Y"
   },
   "source": [
    "We'll merge all other classes and mark them as anomalies:"
   ]
  },
  {
   "cell_type": "code",
   "execution_count": 32,
   "metadata": {
    "colab": {
     "background_save": true
    },
    "id": "xpdXIaDJstD3",
    "outputId": "5bb628c2-dd8e-4266-d791-b4714db6f356"
   },
   "outputs": [
    {
     "data": {
      "text/plain": [
       "(2081, 141)"
      ]
     },
     "execution_count": 32,
     "metadata": {},
     "output_type": "execute_result"
    }
   ],
   "source": [
    "anomaly_df = df[df.target != str(CLASS_NORMAL)] #.drop(labels='target', axis=1)\n",
    "#anomaly_df_target = df[df.target != str(CLASS_NORMAL)]['target'].copy()\n",
    "anomaly_df.shape"
   ]
  },
  {
   "cell_type": "code",
   "execution_count": 33,
   "metadata": {
    "colab": {
     "background_save": true
    },
    "id": "gnJ-T6ozemiQ"
   },
   "outputs": [],
   "source": [
    "def drop_target(df):\n",
    "  df = df.drop(labels=\"target\",axis =1)\n",
    "  return df"
   ]
  },
  {
   "cell_type": "markdown",
   "metadata": {
    "id": "ILcJJwpda15z"
   },
   "source": [
    "We'll split the normal examples into train, validation and test sets:"
   ]
  },
  {
   "cell_type": "code",
   "execution_count": 34,
   "metadata": {
    "colab": {
     "background_save": true
    },
    "id": "n7kJ7C3IFWIV"
   },
   "outputs": [],
   "source": [
    "def normal_train_test_val_split(RANDOM_SEED):\n",
    "  S_N_df, val_df = train_test_split(\n",
    "    normal_df,\n",
    "    test_size=0.15,\n",
    "    random_state=RANDOM_SEED\n",
    "  )\n",
    "\n",
    "  V_N_df, T_N_df = train_test_split(\n",
    "    val_df,\n",
    "    test_size=0.33,\n",
    "    random_state=RANDOM_SEED\n",
    "  )\n",
    "  V_N_df, V_N1_df = train_test_split(\n",
    "    V_N_df,\n",
    "    test_size=0.5,\n",
    "    random_state=RANDOM_SEED\n",
    "  )\n",
    "\n",
    "  S_N_df = drop_target(S_N_df)\n",
    "  V_N_df = drop_target(V_N_df)\n",
    "  V_N1_df = drop_target(V_N1_df)\n",
    "  return S_N_df, V_N_df, T_N_df"
   ]
  },
  {
   "cell_type": "code",
   "execution_count": null,
   "metadata": {
    "colab": {
     "background_save": true
    },
    "id": "n2p5BrxpyYZW"
   },
   "outputs": [],
   "source": []
  },
  {
   "cell_type": "markdown",
   "metadata": {
    "id": "5Pws4tp1vri3"
   },
   "source": [
    "We'll split the anomaly into validation and test sets:\n",
    "\n",
    "\n",
    "\n"
   ]
  },
  {
   "cell_type": "code",
   "execution_count": 35,
   "metadata": {
    "colab": {
     "background_save": true
    },
    "id": "4NA5bZyRvy61"
   },
   "outputs": [],
   "source": [
    "def anomaly_val_test_split(RANDOM_SEED):\n",
    "  V_A_df, T_A_df = train_test_split(\n",
    "      anomaly_df,\n",
    "      test_size = 0.3,\n",
    "      random_state = RANDOM_SEED\n",
    "  )\n",
    "  V_A_df, V_A1_df = train_test_split(\n",
    "      V_A_df,\n",
    "      test_size = 0.5,\n",
    "      random_state = RANDOM_SEED\n",
    "  )\n",
    "  V_A_df = drop_target(V_A_df)\n",
    "  V_A1_df = drop_target(V_A1_df)\n",
    "  return V_A_df, T_A_df"
   ]
  },
  {
   "cell_type": "markdown",
   "metadata": {
    "id": "nWasRQ1dcAp4"
   },
   "source": [
    "We need to convert our examples into tensors, so we can use them to train our Autoencoder. Let's write a helper function for that:"
   ]
  },
  {
   "cell_type": "code",
   "execution_count": 36,
   "metadata": {
    "colab": {
     "background_save": true
    },
    "id": "h2kKiIIeBwKb"
   },
   "outputs": [],
   "source": [
    "def create_dataset(df):\n",
    "\n",
    "  sequences = df.astype(np.float32).to_numpy().tolist()\n",
    "\n",
    "  dataset = [torch.tensor(s).unsqueeze(1).float() for s in sequences]\n",
    "\n",
    "  n_seq, seq_len, n_features = torch.stack(dataset).shape\n",
    "\n",
    "  return dataset, seq_len, n_features"
   ]
  },
  {
   "cell_type": "markdown",
   "metadata": {
    "id": "WT4BekX2g4L_"
   },
   "source": [
    "Each Time Series will be converted to a 2D Tensor in the shape *sequence length* x *number of features* (140x1 in our case).\n",
    "\n",
    "Let's create some datasets:"
   ]
  },
  {
   "cell_type": "code",
   "execution_count": 37,
   "metadata": {
    "colab": {
     "background_save": true
    },
    "id": "Rb1UeUwbjmMD"
   },
   "outputs": [],
   "source": [
    "def train_val_test_val_create(S_N_df, V_N_df, T_N_df, V_A_df, T_A_df):\n",
    "  T_df = pd.concat([T_N_df, T_A_df])\n",
    "  S_N_dataset, seq_len, n_features = create_dataset(S_N_df)\n",
    "  V_N_dataset, _, _ = create_dataset(V_N_df)\n",
    "\n",
    "  V_A_dataset, _, _ = create_dataset(V_A_df)\n",
    "\n",
    "  T_target_df = T_df[\"target\"]\n",
    "\n",
    "  T_df = drop_target(T_df)\n",
    "  T_dataset, _, _ = create_dataset(T_df)\n",
    "  return S_N_dataset, seq_len, n_features, V_N_dataset, V_A_dataset, T_dataset, T_target_df\n"
   ]
  },
  {
   "cell_type": "markdown",
   "metadata": {
    "id": "gLe1hXvRUSnA"
   },
   "source": [
    "### LSTM Autoencoder\n",
    "\n",
    "![Autoencoder](https://lilianweng.github.io/lil-log/assets/images/autoencoder-architecture.png)\n",
    "*Sample Autoencoder Architecture [Image Source](https://lilianweng.github.io/lil-log/2018/08/12/from-autoencoder-to-beta-vae.html)*"
   ]
  },
  {
   "cell_type": "markdown",
   "metadata": {
    "id": "SgZpEEzfqxNp"
   },
   "source": [
    "The general Autoencoder architecture consists of two components. An *Encoder* that compresses the input and a *Decoder* that tries to reconstruct it.\n",
    "\n",
    "We'll use the LSTM Autoencoder from this [GitHub repo](https://github.com/shobrook/sequitur) with some small tweaks. Our model's job is to reconstruct Time Series data. Let's start with the *Encoder*:"
   ]
  },
  {
   "cell_type": "code",
   "execution_count": 67,
   "metadata": {
    "colab": {
     "background_save": true
    },
    "id": "X_f1WaTJhiXy"
   },
   "outputs": [],
   "source": [
    "class Encoder(nn.Module):\n",
    "\n",
    "  def __init__(self, seq_len, n_features, rnn_type, embedding_dim=64, num_stages =2):\n",
    "    super(Encoder, self).__init__()\n",
    "\n",
    "    self.seq_len, self.n_features = seq_len, n_features\n",
    "    self.embedding_dim, self.hidden_dim = embedding_dim, 2 * embedding_dim\n",
    "    self.rnn_type = rnn_type\n",
    "    self.num_stages = num_stages\n",
    "    rnn_dict = {\n",
    "            'LSTM': nn.LSTM,\n",
    "            'GRU': nn.GRU\n",
    "        }\n",
    "\n",
    "    self.rnn_stages = nn.ModuleList() # a list to hold RNN_stages but not the last stage\n",
    "    \n",
    "    # input_size > hidden_size, cause in Encoder we want to compress the data, reduce the dimension into a  \n",
    "    # representation, which can capture the most significant features and will be passed to the decoder\n",
    "    self.rnn_stages.append(  # append the first stage cause input_size = n_features\n",
    "      rnn_dict[self.rnn_type.upper()](\n",
    "        input_size=self.n_features,\n",
    "        hidden_size=self.hidden_dim,\n",
    "        num_layers=1,\n",
    "        batch_first=True\n",
    "      )\n",
    "    )\n",
    "\n",
    "\n",
    "    for i in range(1,num_stages-1): # append the rest stages except the last one\n",
    "      self.rnn_stages.append(\n",
    "      rnn_dict[self.rnn_type.upper()](\n",
    "        input_size=self.hidden_dim, # diff from the first stage\n",
    "        hidden_size=self.hidden_dim,\n",
    "        num_layers=1,\n",
    "        batch_first=True\n",
    "      )\n",
    "      )\n",
    "\n",
    "    # self.rnn1 = rnn_dict[self.rnn_type.upper()]( #GRU\n",
    "    #   input_size=self.n_features,\n",
    "    #   hidden_size=self.hidden_dim,\n",
    "    #   num_layers=1,\n",
    "    #   batch_first=True\n",
    "    # )\n",
    "\n",
    "    self.output_stage = rnn_dict[self.rnn_type.upper()]( # the last stage\n",
    "      input_size=self.hidden_dim,\n",
    "      hidden_size= self.embedding_dim,\n",
    "      num_layers=1,\n",
    "      batch_first=True\n",
    "    )\n",
    "\n",
    "    # self.rnn2 = rnn_dict[self.rnn_type.upper()]( #GRU\n",
    "    #   input_size=self.hidden_dim,\n",
    "    #   hidden_size= self.embedding_dim,\n",
    "    #   num_layers=1,\n",
    "    #   batch_first=True\n",
    "    # )\n",
    "\n",
    "\n",
    "\n",
    "\n",
    "  def forward(self, x):\n",
    "    x = x.reshape((1, self.seq_len, self.n_features))\n",
    "    if self.rnn_type.upper() == \"GRU\" :\n",
    "      for stage in self.rnn_stages:\n",
    "        x,_ = stage(x)\n",
    "      x,hidden_n = self.output_stage(x)\n",
    "\n",
    "      # x, _,  = self.rnn1(x) # x, hidden_n\n",
    "      # x, hidden_n  = self.rnn2(x) # x, hidden_n\n",
    "    else:\n",
    "      for stage in self.rnn_stages:\n",
    "        x,(_,_) = stage(x)\n",
    "      x,(hidden_n,_) = self.output_stage(x)\n",
    "\n",
    "      # x, (_,_)  = self.rnn1(x) # x, hidden_n\n",
    "      # x, (hidden_n,_)  = self.rnn2(x) # x, hidden_n\n",
    "    hidden_n = hidden_n[-1]\n",
    "\n",
    "    return hidden_n.reshape((self.n_features, self.embedding_dim))"
   ]
  },
  {
   "cell_type": "markdown",
   "metadata": {
    "id": "DysklqYmxTib"
   },
   "source": [
    "The *Encoder* uses two LSTM layers to compress the Time Series data input.\n",
    "\n",
    "Next, we'll decode the compressed representation using a *Decoder*:"
   ]
  },
  {
   "cell_type": "code",
   "execution_count": 71,
   "metadata": {
    "colab": {
     "background_save": true
    },
    "id": "AdEft7l3hk6S"
   },
   "outputs": [],
   "source": [
    "class Decoder(nn.Module):\n",
    "\n",
    "  def __init__(self, seq_len, type, input_dim=64, n_features=1, num_stages =2 ):\n",
    "    super(Decoder, self).__init__()\n",
    "\n",
    "    self.seq_len, self.input_dim = seq_len, input_dim\n",
    "    self.hidden_dim, self.n_features = 2*input_dim, n_features\n",
    "    self.rnn_type = type\n",
    "    self.num_stages = num_stages\n",
    "\n",
    "\n",
    "    rnn_dict = {\n",
    "            'LSTM': nn.LSTM,\n",
    "            'GRU': nn.GRU\n",
    "        }\n",
    "    # input_size < hidden_size cause we want to reconstruct the original input from the passed representation\n",
    "    # of the encoder\n",
    "    self.rnn_stages = nn.ModuleList()\n",
    "    for _ in range(num_stages -2 ):\n",
    "        self.rnn_stages.append(\n",
    "          rnn_dict[self.rnn_type.upper()]( #GRU\n",
    "              input_size=input_dim,\n",
    "              hidden_size=input_dim,\n",
    "              num_layers=1,\n",
    "              batch_first=True\n",
    "            )\n",
    "        )\n",
    "\n",
    "    self.rnn_stages.append(rnn_dict[self.rnn_type.upper()]( #GRU\n",
    "      input_size=input_dim,\n",
    "      hidden_size=self.hidden_dim,\n",
    "      num_layers=1,\n",
    "      batch_first=True\n",
    "    ))\n",
    "\n",
    "    self.output_layer = nn.Linear(self.hidden_dim, self.n_features) # last stage\n",
    "\n",
    "  def forward(self, x):\n",
    "    x = x.repeat(self.seq_len, self.n_features)\n",
    "    x = x.reshape((self.n_features, self.seq_len, self.input_dim))\n",
    "    if self.rnn_type.upper() == \"GRU\" :\n",
    "        for stage in self.rnn_stages:\n",
    "            x, _ = stage(x)\n",
    "        # x, _ = self.rnn1(x) # x, hidden_n\n",
    "        # x, _ = self.rnn2(x) # x, hidden_n\n",
    "    else:\n",
    "        for stage in self.rnn_stages:\n",
    "            x, (_,_) = stage(x)\n",
    "        #x, (_, _) = self.rnn1(x)\n",
    "        # x, (_, _) = self.rnn2(x)\n",
    "    x = x.reshape((self.seq_len, self.hidden_dim))\n",
    "\n",
    "    return self.output_layer(x)"
   ]
  },
  {
   "cell_type": "markdown",
   "metadata": {
    "id": "WUMb2NGZyTmi"
   },
   "source": [
    "Our Decoder contains two LSTM layers and an output layer that gives the final reconstruction.\n",
    "\n",
    "Time to wrap everything into an easy to use module:"
   ]
  },
  {
   "cell_type": "code",
   "execution_count": 40,
   "metadata": {
    "colab": {
     "background_save": true
    },
    "id": "vgUChGd_A-Bv"
   },
   "outputs": [],
   "source": [
    "class RecurrentAutoencoder(nn.Module):\n",
    "\n",
    "  def __init__(self, seq_len, n_features, type, embedding_dim=64):\n",
    "    super(RecurrentAutoencoder, self).__init__()\n",
    "\n",
    "    self.encoder = Encoder(seq_len, n_features,type, embedding_dim).to(device)\n",
    "    self.decoder = Decoder(seq_len, type, embedding_dim, n_features).to(device)\n",
    "\n",
    "  def forward(self, x):\n",
    "    x = self.encoder(x)\n",
    "    x = self.decoder(x)\n",
    "\n",
    "    return x"
   ]
  },
  {
   "cell_type": "markdown",
   "metadata": {
    "id": "zT6Cwq78sOrI"
   },
   "source": [
    "Our Autoencoder passes the input through the Encoder and Decoder. Let's create an instance of it:"
   ]
  },
  {
   "cell_type": "code",
   "execution_count": 41,
   "metadata": {
    "colab": {
     "background_save": true
    },
    "id": "Mo0rvFqRBgnu"
   },
   "outputs": [],
   "source": [
    "def create_model(type,seq_len, n_features):\n",
    "  model = RecurrentAutoencoder(seq_len, n_features, type, 128)\n",
    "  model = model.to(device)\n",
    "  return model"
   ]
  },
  {
   "cell_type": "markdown",
   "metadata": {
    "id": "n1ENnubQdnJN"
   },
   "source": [
    "## Training\n",
    "\n",
    "Let's write a helper function for our training process:"
   ]
  },
  {
   "cell_type": "code",
   "execution_count": 42,
   "metadata": {
    "colab": {
     "background_save": true
    },
    "id": "ryEmRvl9DfEj"
   },
   "outputs": [],
   "source": [
    "def train_model(model, train_dataset, val_dataset, n_epochs):\n",
    "  optimizer = torch.optim.Adam(model.parameters(), lr=1e-3)\n",
    "  criterion = nn.L1Loss(reduction='sum').to(device)\n",
    "  history = dict(train=[], val=[])\n",
    "\n",
    "  best_model_wts = copy.deepcopy(model.state_dict())\n",
    "  best_loss = 10000.0\n",
    "\n",
    "  for epoch in range(1, n_epochs + 1):\n",
    "    model = model.train()\n",
    "\n",
    "    train_losses = []\n",
    "    for seq_true in train_dataset:\n",
    "      optimizer.zero_grad()\n",
    "\n",
    "      seq_true = seq_true.to(device)\n",
    "      seq_pred = model(seq_true)\n",
    "\n",
    "      loss = criterion(seq_pred, seq_true)\n",
    "\n",
    "      loss.backward()\n",
    "      optimizer.step()\n",
    "\n",
    "      train_losses.append(loss.item())\n",
    "\n",
    "    val_losses = []\n",
    "    model = model.eval()\n",
    "    with torch.no_grad():\n",
    "      for seq_true in val_dataset:\n",
    "\n",
    "        seq_true = seq_true.to(device)\n",
    "        seq_pred = model(seq_true) # feed the model with the input (seq_true) to get the prediction(seq_predict)\n",
    "\n",
    "        loss = criterion(seq_pred, seq_true) # calculate the diff between the input(seq_true)\n",
    "                                            # and the predict of the model ( seq_pred)\n",
    "        val_losses.append(loss.item())\n",
    "\n",
    "    train_loss = np.mean(train_losses)\n",
    "    val_loss = np.mean(val_losses)\n",
    "\n",
    "    history['train'].append(train_loss)\n",
    "    history['val'].append(val_loss)\n",
    "\n",
    "    if val_loss < best_loss:\n",
    "      best_loss = val_loss\n",
    "      best_model_wts = copy.deepcopy(model.state_dict())\n",
    "\n",
    "    print(f'Epoch {epoch}: train loss {train_loss} val loss {val_loss}')\n",
    "\n",
    "  model.load_state_dict(best_model_wts)\n",
    "  return model.eval(), history"
   ]
  },
  {
   "cell_type": "markdown",
   "metadata": {
    "id": "7iWQrzV1ASpW"
   },
   "source": [
    "At each epoch, the training process feeds our model with all training examples and evaluates the performance on the validation set. Note that we're using a batch size of 1 (our model sees only 1 sequence at a time). We also record the training and validation set losses during the process.\n",
    "\n",
    "Note that we're minimizing the [L1Loss](https://pytorch.org/docs/stable/nn.html#l1loss), which measures the MAE (mean absolute error). Why? The reconstructions seem to be better than with MSE (mean squared error).\n",
    "\n",
    "We'll get the version of the model with the smallest validation error. Let's do some training:"
   ]
  },
  {
   "cell_type": "code",
   "execution_count": 43,
   "metadata": {
    "colab": {
     "background_save": true
    },
    "id": "saamYyUsHdw0"
   },
   "outputs": [],
   "source": [
    "def trained_model(model, train_dataset, val_dataset):\n",
    "  model, history = train_model(\n",
    "    model,\n",
    "    train_dataset,\n",
    "    val_dataset,\n",
    "    n_epochs=2\n",
    "  )\n",
    "  return model,history"
   ]
  },
  {
   "cell_type": "code",
   "execution_count": 44,
   "metadata": {
    "colab": {
     "background_save": true
    },
    "id": "uztvlmNkQSUE"
   },
   "outputs": [],
   "source": [
    "#ax = plt.figure().gca()\n",
    "\n",
    "#ax.plot(history['train'])\n",
    "#ax.plot(history['val'])\n",
    "#plt.ylabel('Loss')\n",
    "#plt.xlabel('Epoch')\n",
    "#plt.legend(['train', 'test'])\n",
    "#plt.title('Loss over training epochs')\n",
    "#plt.show();"
   ]
  },
  {
   "cell_type": "markdown",
   "metadata": {
    "id": "X2IGZFBEVJjq"
   },
   "source": [
    "Our model converged quite well. Seems like we might've needed a larger validation set to smoothen the results, but that'll do for now."
   ]
  },
  {
   "cell_type": "markdown",
   "metadata": {
    "id": "pmoaNSERn09J"
   },
   "source": [
    "## Saving the model\n",
    "\n",
    "Let's store the model for later use:"
   ]
  },
  {
   "cell_type": "code",
   "execution_count": 45,
   "metadata": {
    "colab": {
     "background_save": true
    },
    "id": "tLC_ClIpnv9H"
   },
   "outputs": [],
   "source": [
    "#MODEL_PATH = 'model.pth'\n",
    "\n",
    "#torch.save(model, MODEL_PATH)"
   ]
  },
  {
   "cell_type": "markdown",
   "metadata": {
    "id": "E6q7H7-ea-Lb"
   },
   "source": [
    "Uncomment the next lines, if you want to download and load the pre-trained model:"
   ]
  },
  {
   "cell_type": "code",
   "execution_count": 46,
   "metadata": {
    "colab": {
     "background_save": true
    },
    "id": "e4Hxo-Xftiej"
   },
   "outputs": [],
   "source": [
    "# !gdown --id 1jEYx5wGsb7Ix8cZAw3l5p5pOwHs3_I9A\n",
    "# model = torch.load('model.pth')\n",
    "# model = model.to(device)"
   ]
  },
  {
   "cell_type": "markdown",
   "metadata": {
    "id": "EwLujPFXT054"
   },
   "source": [
    "## Choosing a threshold\n",
    "\n",
    "With our model at hand, we can have a look at the reconstruction error on the training set. Let's start by writing a helper function to get predictions from our model:"
   ]
  },
  {
   "cell_type": "code",
   "execution_count": 47,
   "metadata": {
    "colab": {
     "background_save": true
    },
    "id": "AAhYZy9bRNLM"
   },
   "outputs": [],
   "source": [
    "def predict(model, dataset):\n",
    "  predictions, losses = [], []\n",
    "  criterion = nn.L1Loss(reduction='sum').to(device)\n",
    "  with torch.no_grad():\n",
    "    model = model.eval()\n",
    "    for seq_true in dataset:\n",
    "      seq_true = seq_true.to(device)\n",
    "      seq_pred = model(seq_true)\n",
    "\n",
    "      loss = criterion(seq_pred, seq_true)\n",
    "\n",
    "      predictions.append(seq_pred.cpu().numpy().flatten())\n",
    "      losses.append(loss.item())\n",
    "  return predictions, losses"
   ]
  },
  {
   "cell_type": "markdown",
   "metadata": {
    "id": "wVnNtIreDXf5"
   },
   "source": [
    "Our function goes through each example in the dataset and records the predictions and losses. Let's get the losses and have a look at them:"
   ]
  },
  {
   "cell_type": "code",
   "execution_count": 48,
   "metadata": {
    "colab": {
     "background_save": true
    },
    "id": "pvn141SDS33P"
   },
   "outputs": [],
   "source": [
    "#_, losses = predict(model, train_dataset)\n",
    "\n",
    "#sns.distplot(losses, bins=50, kde=True);"
   ]
  },
  {
   "cell_type": "code",
   "execution_count": 49,
   "metadata": {
    "colab": {
     "background_save": true
    },
    "id": "MjSCtDZ8_xGB"
   },
   "outputs": [],
   "source": [
    "THRESHOLD = 26"
   ]
  },
  {
   "cell_type": "markdown",
   "metadata": {
    "id": "mw2dm631T4a5"
   },
   "source": [
    "## Evaluation\n",
    "\n",
    "Using the threshold, we can turn the problem into a simple binary classification task:\n",
    "\n",
    "- If the reconstruction loss for an example is below the threshold, we'll classify it as a *normal* heartbeat\n",
    "- Alternatively, if the loss is higher than the threshold, we'll classify it as an anomaly"
   ]
  },
  {
   "cell_type": "markdown",
   "metadata": {
    "id": "k94t9U3X7uVA"
   },
   "source": [
    "### Normal hearbeats\n",
    "\n",
    "Let's check how well our model does on normal heartbeats. We'll use the normal heartbeats from the test set (our model haven't seen those):"
   ]
  },
  {
   "cell_type": "code",
   "execution_count": 50,
   "metadata": {
    "colab": {
     "background_save": true
    },
    "id": "-z630B5v7Fid"
   },
   "outputs": [],
   "source": [
    "#predictions, pred_losses = predict(model, test_normal_dataset)\n",
    "#sns.distplot(pred_losses, bins=50, kde=True);"
   ]
  },
  {
   "cell_type": "markdown",
   "metadata": {
    "id": "xCmzETkkLLvh"
   },
   "source": [
    "We'll count the correct predictions:"
   ]
  },
  {
   "cell_type": "code",
   "execution_count": 51,
   "metadata": {
    "colab": {
     "background_save": true
    },
    "id": "BR-hcvUP7OBt"
   },
   "outputs": [],
   "source": [
    "#correct = sum(l <= THRESHOLD for l in pred_losses)\n",
    "#print(f'Correct normal predictions: {correct}/{len(test_normal_dataset)}')"
   ]
  },
  {
   "cell_type": "markdown",
   "metadata": {
    "id": "hYbH8iEz7wmh"
   },
   "source": [
    "### Anomalies"
   ]
  },
  {
   "cell_type": "markdown",
   "metadata": {
    "id": "hidyhcu6zC8-"
   },
   "source": [
    "We'll do the same with the anomaly examples, but their number is much higher. We'll get a subset that has the same size as the normal heartbeats:"
   ]
  },
  {
   "cell_type": "code",
   "execution_count": 52,
   "metadata": {
    "colab": {
     "background_save": true
    },
    "id": "WJcg5DXWyiep"
   },
   "outputs": [],
   "source": [
    "#anomaly_dataset = test_anomaly_dataset[:len(test_normal_dataset)]\n",
    "#anomaly_df_target_dataset = anomaly_df_target[:len(test_normal_dataset)]\n",
    "#anomaly_arr = anomaly_df_target_dataset.to_numpy()\n",
    "#int_array = anomaly_arr.astype(int)\n",
    "#print(int_array)"
   ]
  },
  {
   "cell_type": "markdown",
   "metadata": {
    "id": "gcBoplGU0hR8"
   },
   "source": [
    "Now we can take the predictions of our model for the subset of anomalies:"
   ]
  },
  {
   "cell_type": "code",
   "execution_count": 53,
   "metadata": {
    "colab": {
     "background_save": true
    },
    "id": "tLCuS8oL7hG2"
   },
   "outputs": [],
   "source": [
    "#anomaly_predictions, pred_losses = predict(model, anomaly_dataset)\n"
   ]
  },
  {
   "cell_type": "code",
   "execution_count": 54,
   "metadata": {
    "colab": {
     "background_save": true
    },
    "id": "z34VKUIosMyF"
   },
   "outputs": [],
   "source": [
    "def cal_AUC (target_data, pred_losses, type):\n",
    "  arg = np.argsort(pred_losses) # arg[i] show the i+1 smallest lossvalue is pred_losses[arg[i]]\n",
    "  rank = np.argsort(arg) # show that rank[i] is the rank of pred_losses[i]\n",
    "  if type == \"abnormal\":\n",
    "    indices = np.arange(len(target_data))[target_data != \"1\"]\n",
    "  else:\n",
    "    indices = np.arange(len(target_data))[target_data == \"1\"]\n",
    "  n1 = len(indices)\n",
    "  n2 = len(target_data) - n1\n",
    "  if n1 ==0 or n2 ==0:\n",
    "    print(\"fail\")\n",
    "    #raise Exception(\"Unable to calculate AUC score. Only elements of one class present.\")\n",
    "    return 0\n",
    "\n",
    "  return (np.mean(rank[indices]) - (n1 +1)/2)/ n2"
   ]
  },
  {
   "cell_type": "code",
   "execution_count": 55,
   "metadata": {
    "colab": {
     "background_save": true
    },
    "id": "Hf6T1ghB0NqT"
   },
   "outputs": [],
   "source": [
    "def create_data(seed):\n",
    "  RANDOM_SEED = set_seed(seed)\n",
    "  S_N_df, V_N_df, T_N_df = normal_train_test_val_split(RANDOM_SEED)\n",
    "  V_A_df, T_A_df = anomaly_val_test_split(RANDOM_SEED)\n",
    "  S_N_dataset, seq_len, n_features, V_N_dataset, V_A_dataset, T_dataset, T_target_df  = train_val_test_val_create(S_N_df, V_N_df, T_N_df, V_A_df, T_A_df)\n",
    "\n",
    "  return S_N_dataset, seq_len, n_features, V_N_dataset, V_A_dataset, T_dataset, T_target_df\n"
   ]
  },
  {
   "cell_type": "code",
   "execution_count": 56,
   "metadata": {
    "colab": {
     "background_save": true
    },
    "id": "0E5bKpOF13IT"
   },
   "outputs": [],
   "source": [
    "def AUC_and_predLoss(type,seq_len,n_features, S_N_dataset, V_N_dataset, T_dataset, T_target_df):\n",
    "  model = create_model(type,seq_len, n_features) # create GRU and calculate AUC score then save it in AUC_df\n",
    "  model,history = trained_model(model, S_N_dataset, V_N_dataset)\n",
    "  _, pred_losses = predict(model, T_dataset)\n",
    "  #Reconstruction_Error[\"GRU\"] = pred_losses\n",
    "  AUC_score = cal_AUC(T_target_df, pred_losses,\"abnormal\")\n",
    "  #AUC[\"GRU\"].append(AUC_GRU_score)\n",
    "  return pred_losses, AUC_score"
   ]
  },
  {
   "cell_type": "code",
   "execution_count": 73,
   "metadata": {
    "colab": {
     "background_save": true
    },
    "id": "DZ9M5V7LnmI3"
   },
   "outputs": [],
   "source": [
    "def AUC_df():\n",
    "  AUC ={\n",
    "      \"GRU\" : [],\n",
    "      \"LSTM\" : []\n",
    "  }\n",
    "  Reconstruction_Error={\n",
    "      \"GRU\" : [],\n",
    "      \"LSTM\" :[]\n",
    "  }\n",
    "  for i in range(5): # create 20 GRU, LTSM and calculate AUC to evaluate the perfomences of these 2\n",
    "    S_N_dataset, seq_len, n_features, V_N_dataset, V_A_dataset, T_dataset, T_target_df = create_data(i)\n",
    "    #test_df_target = T_dataset[-1] # save the target column for testing\n",
    "    #T_dataset = T_dataset[:-1] # drop the target column\n",
    "    #.clone().int().numpy()\n",
    "    #anomaly_dataset = T_A_dataset[:len(T_N_dataset)]\n",
    "    #anomaly_df_target_dataset = anomaly_df_target[:len(T_N_dataset)]\n",
    "    #anomaly_arr = anomaly_df_target_dataset.to_numpy()\n",
    "    #anomaly_int_arr = anomaly_arr.astype(int)\n",
    "\n",
    "\n",
    "    #model = create_model(\"GRU\",seq_len, n_features) # create GRU and calculate AUC score then save it in AUC_df\n",
    "    #model,history = trained_model(model, S_N_dataset, V_N_dataset)\n",
    "    #_, pred_losses = predict(model, T_dataset)\n",
    "\n",
    "    GRU_pred_losses, GRU_AUC_score = AUC_and_predLoss(\"GRU\",seq_len,n_features, S_N_dataset, V_N_dataset, T_dataset, T_target_df)\n",
    "    Reconstruction_Error[\"GRU\"] = GRU_pred_losses\n",
    "    #pred_losses, AUC_GRU_score = cal_AUC(test_df_target, pred_losses,\"abnormal\")\n",
    "    AUC[\"GRU\"].append(GRU_AUC_score)\n",
    "\n",
    "    #model = create_model(\"LSTM\",seq_len,n_features)\n",
    "    #model,history = trained_model(model, S_N_dataset, V_N_dataset)\n",
    "    #_, pred_losses = predict(model, T_dataset)\n",
    "    #Reconstruction_Error[\"LSTM\"] = pred_losses\n",
    "    #LTSM_AUC_score = cal_AUC(test_df_target, pred_losses,\"abnormal\")\n",
    "\n",
    "\n",
    "    LSTM_pred_losses, LSTM_AUC_score = AUC_and_predLoss(\"LSTM\",seq_len,n_features, S_N_dataset, V_N_dataset, T_dataset, T_target_df)\n",
    "    Reconstruction_Error[\"LSTM\"] = LSTM_pred_losses\n",
    "    #pred_losses, AUC_GRU_score = cal_AUC(test_df_target, pred_losses,\"abnormal\")\n",
    "    AUC[\"LSTM\"].append(LSTM_AUC_score)\n",
    "\n",
    "    AUC_df = pd.DataFrame(AUC)\n",
    "    Reconstruction_Error_df = pd.DataFrame(Reconstruction_Error)\n",
    "    print(AUC[\"GRU\"])\n",
    "  return AUC_df,Reconstruction_Error_df\n"
   ]
  },
  {
   "cell_type": "markdown",
   "metadata": {
    "id": "5TauJUiJfaOo"
   },
   "source": []
  },
  {
   "cell_type": "code",
   "execution_count": 74,
   "metadata": {
    "colab": {
     "background_save": true
    },
    "id": "hg69zASxhy7u",
    "outputId": "b1b1e71b-5301-4ed1-8907-d5774d8be03e",
    "scrolled": true
   },
   "outputs": [
    {
     "name": "stdout",
     "output_type": "stream",
     "text": [
      "Epoch 1: train loss 57.297233939795476 val loss 55.80200169184437\n",
      "Epoch 2: train loss 48.807376999953064 val loss 48.7016685956145\n",
      "Epoch 1: train loss 64.49731140105968 val loss 54.502065736953526\n"
     ]
    },
    {
     "ename": "KeyboardInterrupt",
     "evalue": "",
     "output_type": "error",
     "traceback": [
      "\u001b[0;31m---------------------------------------------------------------------------\u001b[0m",
      "\u001b[0;31mKeyboardInterrupt\u001b[0m                         Traceback (most recent call last)",
      "Cell \u001b[0;32mIn[74], line 1\u001b[0m\n\u001b[0;32m----> 1\u001b[0m auc_df, Reconstruction_Error_df \u001b[38;5;241m=\u001b[39m AUC_df()\n",
      "Cell \u001b[0;32mIn[73], line 37\u001b[0m, in \u001b[0;36mAUC_df\u001b[0;34m()\u001b[0m\n\u001b[1;32m     28\u001b[0m AUC[\u001b[38;5;124m\"\u001b[39m\u001b[38;5;124mGRU\u001b[39m\u001b[38;5;124m\"\u001b[39m]\u001b[38;5;241m.\u001b[39mappend(GRU_AUC_score)\n\u001b[1;32m     30\u001b[0m \u001b[38;5;66;03m#model = create_model(\"LSTM\",seq_len,n_features)\u001b[39;00m\n\u001b[1;32m     31\u001b[0m \u001b[38;5;66;03m#model,history = trained_model(model, S_N_dataset, V_N_dataset)\u001b[39;00m\n\u001b[1;32m     32\u001b[0m \u001b[38;5;66;03m#_, pred_losses = predict(model, T_dataset)\u001b[39;00m\n\u001b[1;32m     33\u001b[0m \u001b[38;5;66;03m#Reconstruction_Error[\"LSTM\"] = pred_losses\u001b[39;00m\n\u001b[1;32m     34\u001b[0m \u001b[38;5;66;03m#LTSM_AUC_score = cal_AUC(test_df_target, pred_losses,\"abnormal\")\u001b[39;00m\n\u001b[0;32m---> 37\u001b[0m LSTM_pred_losses, LSTM_AUC_score \u001b[38;5;241m=\u001b[39m AUC_and_predLoss(\u001b[38;5;124m\"\u001b[39m\u001b[38;5;124mLSTM\u001b[39m\u001b[38;5;124m\"\u001b[39m,seq_len,n_features, S_N_dataset, V_N_dataset, T_dataset, T_target_df)\n\u001b[1;32m     38\u001b[0m Reconstruction_Error[\u001b[38;5;124m\"\u001b[39m\u001b[38;5;124mLSTM\u001b[39m\u001b[38;5;124m\"\u001b[39m] \u001b[38;5;241m=\u001b[39m LSTM_pred_losses\n\u001b[1;32m     39\u001b[0m \u001b[38;5;66;03m#pred_losses, AUC_GRU_score = cal_AUC(test_df_target, pred_losses,\"abnormal\")\u001b[39;00m\n",
      "Cell \u001b[0;32mIn[56], line 3\u001b[0m, in \u001b[0;36mAUC_and_predLoss\u001b[0;34m(type, seq_len, n_features, S_N_dataset, V_N_dataset, T_dataset, T_target_df)\u001b[0m\n\u001b[1;32m      1\u001b[0m \u001b[38;5;28;01mdef\u001b[39;00m \u001b[38;5;21mAUC_and_predLoss\u001b[39m(\u001b[38;5;28mtype\u001b[39m,seq_len,n_features, S_N_dataset, V_N_dataset, T_dataset, T_target_df):\n\u001b[1;32m      2\u001b[0m   model \u001b[38;5;241m=\u001b[39m create_model(\u001b[38;5;28mtype\u001b[39m,seq_len, n_features) \u001b[38;5;66;03m# create GRU and calculate AUC score then save it in AUC_df\u001b[39;00m\n\u001b[0;32m----> 3\u001b[0m   model,history \u001b[38;5;241m=\u001b[39m trained_model(model, S_N_dataset, V_N_dataset)\n\u001b[1;32m      4\u001b[0m   _, pred_losses \u001b[38;5;241m=\u001b[39m predict(model, T_dataset)\n\u001b[1;32m      5\u001b[0m   \u001b[38;5;66;03m#Reconstruction_Error[\"GRU\"] = pred_losses\u001b[39;00m\n",
      "Cell \u001b[0;32mIn[43], line 2\u001b[0m, in \u001b[0;36mtrained_model\u001b[0;34m(model, train_dataset, val_dataset)\u001b[0m\n\u001b[1;32m      1\u001b[0m \u001b[38;5;28;01mdef\u001b[39;00m \u001b[38;5;21mtrained_model\u001b[39m(model, train_dataset, val_dataset):\n\u001b[0;32m----> 2\u001b[0m   model, history \u001b[38;5;241m=\u001b[39m train_model(\n\u001b[1;32m      3\u001b[0m     model,\n\u001b[1;32m      4\u001b[0m     train_dataset,\n\u001b[1;32m      5\u001b[0m     val_dataset,\n\u001b[1;32m      6\u001b[0m     n_epochs\u001b[38;5;241m=\u001b[39m\u001b[38;5;241m2\u001b[39m\n\u001b[1;32m      7\u001b[0m   )\n\u001b[1;32m      8\u001b[0m   \u001b[38;5;28;01mreturn\u001b[39;00m model,history\n",
      "Cell \u001b[0;32mIn[42], line 17\u001b[0m, in \u001b[0;36mtrain_model\u001b[0;34m(model, train_dataset, val_dataset, n_epochs)\u001b[0m\n\u001b[1;32m     14\u001b[0m optimizer\u001b[38;5;241m.\u001b[39mzero_grad()\n\u001b[1;32m     16\u001b[0m seq_true \u001b[38;5;241m=\u001b[39m seq_true\u001b[38;5;241m.\u001b[39mto(device)\n\u001b[0;32m---> 17\u001b[0m seq_pred \u001b[38;5;241m=\u001b[39m model(seq_true)\n\u001b[1;32m     19\u001b[0m loss \u001b[38;5;241m=\u001b[39m criterion(seq_pred, seq_true)\n\u001b[1;32m     21\u001b[0m loss\u001b[38;5;241m.\u001b[39mbackward()\n",
      "File \u001b[0;32m~/anaconda3/lib/python3.11/site-packages/torch/nn/modules/module.py:1736\u001b[0m, in \u001b[0;36mModule._wrapped_call_impl\u001b[0;34m(self, *args, **kwargs)\u001b[0m\n\u001b[1;32m   1734\u001b[0m     \u001b[38;5;28;01mreturn\u001b[39;00m \u001b[38;5;28mself\u001b[39m\u001b[38;5;241m.\u001b[39m_compiled_call_impl(\u001b[38;5;241m*\u001b[39margs, \u001b[38;5;241m*\u001b[39m\u001b[38;5;241m*\u001b[39mkwargs)  \u001b[38;5;66;03m# type: ignore[misc]\u001b[39;00m\n\u001b[1;32m   1735\u001b[0m \u001b[38;5;28;01melse\u001b[39;00m:\n\u001b[0;32m-> 1736\u001b[0m     \u001b[38;5;28;01mreturn\u001b[39;00m \u001b[38;5;28mself\u001b[39m\u001b[38;5;241m.\u001b[39m_call_impl(\u001b[38;5;241m*\u001b[39margs, \u001b[38;5;241m*\u001b[39m\u001b[38;5;241m*\u001b[39mkwargs)\n",
      "File \u001b[0;32m~/anaconda3/lib/python3.11/site-packages/torch/nn/modules/module.py:1747\u001b[0m, in \u001b[0;36mModule._call_impl\u001b[0;34m(self, *args, **kwargs)\u001b[0m\n\u001b[1;32m   1742\u001b[0m \u001b[38;5;66;03m# If we don't have any hooks, we want to skip the rest of the logic in\u001b[39;00m\n\u001b[1;32m   1743\u001b[0m \u001b[38;5;66;03m# this function, and just call forward.\u001b[39;00m\n\u001b[1;32m   1744\u001b[0m \u001b[38;5;28;01mif\u001b[39;00m \u001b[38;5;129;01mnot\u001b[39;00m (\u001b[38;5;28mself\u001b[39m\u001b[38;5;241m.\u001b[39m_backward_hooks \u001b[38;5;129;01mor\u001b[39;00m \u001b[38;5;28mself\u001b[39m\u001b[38;5;241m.\u001b[39m_backward_pre_hooks \u001b[38;5;129;01mor\u001b[39;00m \u001b[38;5;28mself\u001b[39m\u001b[38;5;241m.\u001b[39m_forward_hooks \u001b[38;5;129;01mor\u001b[39;00m \u001b[38;5;28mself\u001b[39m\u001b[38;5;241m.\u001b[39m_forward_pre_hooks\n\u001b[1;32m   1745\u001b[0m         \u001b[38;5;129;01mor\u001b[39;00m _global_backward_pre_hooks \u001b[38;5;129;01mor\u001b[39;00m _global_backward_hooks\n\u001b[1;32m   1746\u001b[0m         \u001b[38;5;129;01mor\u001b[39;00m _global_forward_hooks \u001b[38;5;129;01mor\u001b[39;00m _global_forward_pre_hooks):\n\u001b[0;32m-> 1747\u001b[0m     \u001b[38;5;28;01mreturn\u001b[39;00m forward_call(\u001b[38;5;241m*\u001b[39margs, \u001b[38;5;241m*\u001b[39m\u001b[38;5;241m*\u001b[39mkwargs)\n\u001b[1;32m   1749\u001b[0m result \u001b[38;5;241m=\u001b[39m \u001b[38;5;28;01mNone\u001b[39;00m\n\u001b[1;32m   1750\u001b[0m called_always_called_hooks \u001b[38;5;241m=\u001b[39m \u001b[38;5;28mset\u001b[39m()\n",
      "Cell \u001b[0;32mIn[40], line 10\u001b[0m, in \u001b[0;36mRecurrentAutoencoder.forward\u001b[0;34m(self, x)\u001b[0m\n\u001b[1;32m      9\u001b[0m \u001b[38;5;28;01mdef\u001b[39;00m \u001b[38;5;21mforward\u001b[39m(\u001b[38;5;28mself\u001b[39m, x):\n\u001b[0;32m---> 10\u001b[0m   x \u001b[38;5;241m=\u001b[39m \u001b[38;5;28mself\u001b[39m\u001b[38;5;241m.\u001b[39mencoder(x)\n\u001b[1;32m     11\u001b[0m   x \u001b[38;5;241m=\u001b[39m \u001b[38;5;28mself\u001b[39m\u001b[38;5;241m.\u001b[39mdecoder(x)\n\u001b[1;32m     13\u001b[0m   \u001b[38;5;28;01mreturn\u001b[39;00m x\n",
      "File \u001b[0;32m~/anaconda3/lib/python3.11/site-packages/torch/nn/modules/module.py:1736\u001b[0m, in \u001b[0;36mModule._wrapped_call_impl\u001b[0;34m(self, *args, **kwargs)\u001b[0m\n\u001b[1;32m   1734\u001b[0m     \u001b[38;5;28;01mreturn\u001b[39;00m \u001b[38;5;28mself\u001b[39m\u001b[38;5;241m.\u001b[39m_compiled_call_impl(\u001b[38;5;241m*\u001b[39margs, \u001b[38;5;241m*\u001b[39m\u001b[38;5;241m*\u001b[39mkwargs)  \u001b[38;5;66;03m# type: ignore[misc]\u001b[39;00m\n\u001b[1;32m   1735\u001b[0m \u001b[38;5;28;01melse\u001b[39;00m:\n\u001b[0;32m-> 1736\u001b[0m     \u001b[38;5;28;01mreturn\u001b[39;00m \u001b[38;5;28mself\u001b[39m\u001b[38;5;241m.\u001b[39m_call_impl(\u001b[38;5;241m*\u001b[39margs, \u001b[38;5;241m*\u001b[39m\u001b[38;5;241m*\u001b[39mkwargs)\n",
      "File \u001b[0;32m~/anaconda3/lib/python3.11/site-packages/torch/nn/modules/module.py:1747\u001b[0m, in \u001b[0;36mModule._call_impl\u001b[0;34m(self, *args, **kwargs)\u001b[0m\n\u001b[1;32m   1742\u001b[0m \u001b[38;5;66;03m# If we don't have any hooks, we want to skip the rest of the logic in\u001b[39;00m\n\u001b[1;32m   1743\u001b[0m \u001b[38;5;66;03m# this function, and just call forward.\u001b[39;00m\n\u001b[1;32m   1744\u001b[0m \u001b[38;5;28;01mif\u001b[39;00m \u001b[38;5;129;01mnot\u001b[39;00m (\u001b[38;5;28mself\u001b[39m\u001b[38;5;241m.\u001b[39m_backward_hooks \u001b[38;5;129;01mor\u001b[39;00m \u001b[38;5;28mself\u001b[39m\u001b[38;5;241m.\u001b[39m_backward_pre_hooks \u001b[38;5;129;01mor\u001b[39;00m \u001b[38;5;28mself\u001b[39m\u001b[38;5;241m.\u001b[39m_forward_hooks \u001b[38;5;129;01mor\u001b[39;00m \u001b[38;5;28mself\u001b[39m\u001b[38;5;241m.\u001b[39m_forward_pre_hooks\n\u001b[1;32m   1745\u001b[0m         \u001b[38;5;129;01mor\u001b[39;00m _global_backward_pre_hooks \u001b[38;5;129;01mor\u001b[39;00m _global_backward_hooks\n\u001b[1;32m   1746\u001b[0m         \u001b[38;5;129;01mor\u001b[39;00m _global_forward_hooks \u001b[38;5;129;01mor\u001b[39;00m _global_forward_pre_hooks):\n\u001b[0;32m-> 1747\u001b[0m     \u001b[38;5;28;01mreturn\u001b[39;00m forward_call(\u001b[38;5;241m*\u001b[39margs, \u001b[38;5;241m*\u001b[39m\u001b[38;5;241m*\u001b[39mkwargs)\n\u001b[1;32m   1749\u001b[0m result \u001b[38;5;241m=\u001b[39m \u001b[38;5;28;01mNone\u001b[39;00m\n\u001b[1;32m   1750\u001b[0m called_always_called_hooks \u001b[38;5;241m=\u001b[39m \u001b[38;5;28mset\u001b[39m()\n",
      "Cell \u001b[0;32mIn[67], line 74\u001b[0m, in \u001b[0;36mEncoder.forward\u001b[0;34m(self, x)\u001b[0m\n\u001b[1;32m     70\u001b[0m   \u001b[38;5;66;03m# x, _,  = self.rnn1(x) # x, hidden_n\u001b[39;00m\n\u001b[1;32m     71\u001b[0m   \u001b[38;5;66;03m# x, hidden_n  = self.rnn2(x) # x, hidden_n\u001b[39;00m\n\u001b[1;32m     72\u001b[0m \u001b[38;5;28;01melse\u001b[39;00m:\n\u001b[1;32m     73\u001b[0m   \u001b[38;5;28;01mfor\u001b[39;00m stage \u001b[38;5;129;01min\u001b[39;00m \u001b[38;5;28mself\u001b[39m\u001b[38;5;241m.\u001b[39mrnn_stages:\n\u001b[0;32m---> 74\u001b[0m     x,(_,_) \u001b[38;5;241m=\u001b[39m stage(x)\n\u001b[1;32m     75\u001b[0m   x,(hidden_n,_) \u001b[38;5;241m=\u001b[39m \u001b[38;5;28mself\u001b[39m\u001b[38;5;241m.\u001b[39moutput_stage(x)\n\u001b[1;32m     77\u001b[0m   \u001b[38;5;66;03m# x, (_,_)  = self.rnn1(x) # x, hidden_n\u001b[39;00m\n\u001b[1;32m     78\u001b[0m   \u001b[38;5;66;03m# x, (hidden_n,_)  = self.rnn2(x) # x, hidden_n\u001b[39;00m\n",
      "File \u001b[0;32m~/anaconda3/lib/python3.11/site-packages/torch/nn/modules/module.py:1736\u001b[0m, in \u001b[0;36mModule._wrapped_call_impl\u001b[0;34m(self, *args, **kwargs)\u001b[0m\n\u001b[1;32m   1734\u001b[0m     \u001b[38;5;28;01mreturn\u001b[39;00m \u001b[38;5;28mself\u001b[39m\u001b[38;5;241m.\u001b[39m_compiled_call_impl(\u001b[38;5;241m*\u001b[39margs, \u001b[38;5;241m*\u001b[39m\u001b[38;5;241m*\u001b[39mkwargs)  \u001b[38;5;66;03m# type: ignore[misc]\u001b[39;00m\n\u001b[1;32m   1735\u001b[0m \u001b[38;5;28;01melse\u001b[39;00m:\n\u001b[0;32m-> 1736\u001b[0m     \u001b[38;5;28;01mreturn\u001b[39;00m \u001b[38;5;28mself\u001b[39m\u001b[38;5;241m.\u001b[39m_call_impl(\u001b[38;5;241m*\u001b[39margs, \u001b[38;5;241m*\u001b[39m\u001b[38;5;241m*\u001b[39mkwargs)\n",
      "File \u001b[0;32m~/anaconda3/lib/python3.11/site-packages/torch/nn/modules/module.py:1747\u001b[0m, in \u001b[0;36mModule._call_impl\u001b[0;34m(self, *args, **kwargs)\u001b[0m\n\u001b[1;32m   1742\u001b[0m \u001b[38;5;66;03m# If we don't have any hooks, we want to skip the rest of the logic in\u001b[39;00m\n\u001b[1;32m   1743\u001b[0m \u001b[38;5;66;03m# this function, and just call forward.\u001b[39;00m\n\u001b[1;32m   1744\u001b[0m \u001b[38;5;28;01mif\u001b[39;00m \u001b[38;5;129;01mnot\u001b[39;00m (\u001b[38;5;28mself\u001b[39m\u001b[38;5;241m.\u001b[39m_backward_hooks \u001b[38;5;129;01mor\u001b[39;00m \u001b[38;5;28mself\u001b[39m\u001b[38;5;241m.\u001b[39m_backward_pre_hooks \u001b[38;5;129;01mor\u001b[39;00m \u001b[38;5;28mself\u001b[39m\u001b[38;5;241m.\u001b[39m_forward_hooks \u001b[38;5;129;01mor\u001b[39;00m \u001b[38;5;28mself\u001b[39m\u001b[38;5;241m.\u001b[39m_forward_pre_hooks\n\u001b[1;32m   1745\u001b[0m         \u001b[38;5;129;01mor\u001b[39;00m _global_backward_pre_hooks \u001b[38;5;129;01mor\u001b[39;00m _global_backward_hooks\n\u001b[1;32m   1746\u001b[0m         \u001b[38;5;129;01mor\u001b[39;00m _global_forward_hooks \u001b[38;5;129;01mor\u001b[39;00m _global_forward_pre_hooks):\n\u001b[0;32m-> 1747\u001b[0m     \u001b[38;5;28;01mreturn\u001b[39;00m forward_call(\u001b[38;5;241m*\u001b[39margs, \u001b[38;5;241m*\u001b[39m\u001b[38;5;241m*\u001b[39mkwargs)\n\u001b[1;32m   1749\u001b[0m result \u001b[38;5;241m=\u001b[39m \u001b[38;5;28;01mNone\u001b[39;00m\n\u001b[1;32m   1750\u001b[0m called_always_called_hooks \u001b[38;5;241m=\u001b[39m \u001b[38;5;28mset\u001b[39m()\n",
      "File \u001b[0;32m~/anaconda3/lib/python3.11/site-packages/torch/nn/modules/rnn.py:1123\u001b[0m, in \u001b[0;36mLSTM.forward\u001b[0;34m(self, input, hx)\u001b[0m\n\u001b[1;32m   1120\u001b[0m         hx \u001b[38;5;241m=\u001b[39m \u001b[38;5;28mself\u001b[39m\u001b[38;5;241m.\u001b[39mpermute_hidden(hx, sorted_indices)\n\u001b[1;32m   1122\u001b[0m \u001b[38;5;28;01mif\u001b[39;00m batch_sizes \u001b[38;5;129;01mis\u001b[39;00m \u001b[38;5;28;01mNone\u001b[39;00m:\n\u001b[0;32m-> 1123\u001b[0m     result \u001b[38;5;241m=\u001b[39m _VF\u001b[38;5;241m.\u001b[39mlstm(\n\u001b[1;32m   1124\u001b[0m         \u001b[38;5;28minput\u001b[39m,\n\u001b[1;32m   1125\u001b[0m         hx,\n\u001b[1;32m   1126\u001b[0m         \u001b[38;5;28mself\u001b[39m\u001b[38;5;241m.\u001b[39m_flat_weights,\n\u001b[1;32m   1127\u001b[0m         \u001b[38;5;28mself\u001b[39m\u001b[38;5;241m.\u001b[39mbias,\n\u001b[1;32m   1128\u001b[0m         \u001b[38;5;28mself\u001b[39m\u001b[38;5;241m.\u001b[39mnum_layers,\n\u001b[1;32m   1129\u001b[0m         \u001b[38;5;28mself\u001b[39m\u001b[38;5;241m.\u001b[39mdropout,\n\u001b[1;32m   1130\u001b[0m         \u001b[38;5;28mself\u001b[39m\u001b[38;5;241m.\u001b[39mtraining,\n\u001b[1;32m   1131\u001b[0m         \u001b[38;5;28mself\u001b[39m\u001b[38;5;241m.\u001b[39mbidirectional,\n\u001b[1;32m   1132\u001b[0m         \u001b[38;5;28mself\u001b[39m\u001b[38;5;241m.\u001b[39mbatch_first,\n\u001b[1;32m   1133\u001b[0m     )\n\u001b[1;32m   1134\u001b[0m \u001b[38;5;28;01melse\u001b[39;00m:\n\u001b[1;32m   1135\u001b[0m     result \u001b[38;5;241m=\u001b[39m _VF\u001b[38;5;241m.\u001b[39mlstm(\n\u001b[1;32m   1136\u001b[0m         \u001b[38;5;28minput\u001b[39m,\n\u001b[1;32m   1137\u001b[0m         batch_sizes,\n\u001b[0;32m   (...)\u001b[0m\n\u001b[1;32m   1144\u001b[0m         \u001b[38;5;28mself\u001b[39m\u001b[38;5;241m.\u001b[39mbidirectional,\n\u001b[1;32m   1145\u001b[0m     )\n",
      "\u001b[0;31mKeyboardInterrupt\u001b[0m: "
     ]
    }
   ],
   "source": [
    "auc_df, Reconstruction_Error_df = AUC_df()"
   ]
  },
  {
   "cell_type": "code",
   "execution_count": null,
   "metadata": {
    "id": "sf_93cp94E-c"
   },
   "outputs": [],
   "source": [
    "def plot_boxplot ():\n",
    "\n",
    "  auc_melted = auc_df.melt(var_name='Model', value_name='AUC')\n",
    "  sns.boxplot(x='Model', y='AUC', data=auc_melted)\n",
    "  plt.title('AUC Scores Comparison Across Models')\n",
    "  plt.show()"
   ]
  },
  {
   "cell_type": "code",
   "execution_count": null,
   "metadata": {
    "collapsed": true,
    "id": "OhTSuzUYWNhi"
   },
   "outputs": [],
   "source": [
    "plot_boxplot()"
   ]
  },
  {
   "cell_type": "code",
   "execution_count": null,
   "metadata": {
    "collapsed": true,
    "id": "ZcAobO2KUdcK"
   },
   "outputs": [],
   "source": [
    "import scipy as sp\n",
    "from scipy import stats\n",
    "def threshold_set():\n",
    "  mu, sigma = stats.norm.fit(Reconstruction_Error_df)\n",
    "  threshold = mu + 3 * sigma\n",
    "\n",
    "return threshold\n"
   ]
  },
  {
   "cell_type": "markdown",
   "metadata": {
    "id": "EkgGXs4E06so"
   },
   "source": [
    "Finally, we can count the number of examples above the threshold (considered as anomalies):"
   ]
  },
  {
   "cell_type": "code",
   "execution_count": null,
   "metadata": {
    "id": "_NEUmDoM8M6q"
   },
   "outputs": [],
   "source": [
    "correct = sum(l > THRESHOLD for l in pred_losses)\n",
    "print(f'Correct anomaly predictions: {correct}/{len(anomaly_dataset)}')"
   ]
  },
  {
   "cell_type": "markdown",
   "metadata": {
    "id": "v0PfwvTZ23_s"
   },
   "source": [
    "We have very good results. In the real world, you can tweak the threshold depending on what kind of errors you want to tolerate. In this case, you might want to have more false positives (normal heartbeats considered as anomalies) than false negatives (anomalies considered as normal)."
   ]
  },
  {
   "cell_type": "markdown",
   "metadata": {
    "id": "KrW0seHZ72Mu"
   },
   "source": [
    "#### Looking at Examples\n",
    "\n",
    "We can overlay the real and reconstructed Time Series values to see how close they are. We'll do it for some normal and anomaly cases:"
   ]
  },
  {
   "cell_type": "code",
   "execution_count": null,
   "metadata": {
    "id": "gBRWRk6WWdNC"
   },
   "outputs": [],
   "source": [
    "def plot_prediction(data, model, title, ax):\n",
    "  predictions, pred_losses = predict(model, [data])\n",
    "\n",
    "  ax.plot(data, label='true')\n",
    "  ax.plot(predictions[0], label='reconstructed')\n",
    "  ax.set_title(f'{title} (loss: {np.around(pred_losses[0], 2)})')\n",
    "  ax.legend()"
   ]
  },
  {
   "cell_type": "code",
   "execution_count": null,
   "metadata": {
    "id": "ZnN1K63BYomX"
   },
   "outputs": [],
   "source": [
    "fig, axs = plt.subplots(\n",
    "  nrows=2,\n",
    "  ncols=6,\n",
    "  sharey=True,\n",
    "  sharex=True,\n",
    "  figsize=(22, 8)\n",
    ")\n",
    "\n",
    "for i, data in enumerate(test_normal_dataset[:6]):\n",
    "  plot_prediction(data, model, title='Normal', ax=axs[0, i])\n",
    "\n",
    "for i, data in enumerate(test_anomaly_dataset[:6]):\n",
    "  plot_prediction(data, model, title='Anomaly', ax=axs[1, i])\n",
    "\n",
    "fig.tight_layout();"
   ]
  },
  {
   "cell_type": "markdown",
   "metadata": {
    "id": "dC1-69KD2lQ0"
   },
   "source": [
    "## Summary\n",
    "\n",
    "In this tutorial, you learned how to create an LSTM Autoencoder with PyTorch and use it to detect heartbeat anomalies in ECG data.\n",
    "\n",
    "- [Read the tutorial](https://www.curiousily.com/posts/time-series-anomaly-detection-using-lstm-autoencoder-with-pytorch-in-python/)\n",
    "- [Run the notebook in your browser (Google Colab)](https://colab.research.google.com/drive/1_J2MrBSvsJfOcVmYAN2-WSp36BtsFZCa)\n",
    "- [Read the Getting Things Done with Pytorch book](https://github.com/curiousily/Getting-Things-Done-with-Pytorch)\n",
    "\n",
    "You learned how to:\n",
    "\n",
    "- Prepare a dataset for Anomaly Detection from Time Series Data\n",
    "- Build an LSTM Autoencoder with PyTorch\n",
    "- Train and evaluate your model\n",
    "- Choose a threshold for anomaly detection\n",
    "- Classify unseen examples as normal or anomaly\n",
    "\n",
    "While our Time Series data is univariate (we have only 1 feature), the code should work for multivariate datasets (multiple features) with little or no modification. Feel free to try it!"
   ]
  },
  {
   "cell_type": "markdown",
   "metadata": {
    "id": "9icnPwTOW9RF"
   },
   "source": [
    "## References\n",
    "\n",
    "- [Sequitur - Recurrent Autoencoder (RAE)](https://github.com/shobrook/sequitur)\n",
    "- [Towards Never-Ending Learning from Time Series Streams](https://www.cs.ucr.edu/~eamonn/neverending.pdf)\n",
    "- [LSTM Autoencoder for Anomaly Detection](https://towardsdatascience.com/lstm-autoencoder-for-anomaly-detection-e1f4f2ee7ccf)"
   ]
  },
  {
   "cell_type": "code",
   "execution_count": null,
   "metadata": {
    "id": "S9DgKk0baVt-"
   },
   "outputs": [],
   "source": []
  },
  {
   "cell_type": "code",
   "execution_count": null,
   "metadata": {
    "id": "kBoXpXmtaVt-"
   },
   "outputs": [],
   "source": []
  },
  {
   "cell_type": "code",
   "execution_count": null,
   "metadata": {
    "id": "8apOUtnoaVt-"
   },
   "outputs": [],
   "source": []
  },
  {
   "cell_type": "code",
   "execution_count": null,
   "metadata": {
    "id": "Cqt-sioeaVt-"
   },
   "outputs": [],
   "source": []
  }
 ],
 "metadata": {
  "accelerator": "GPU",
  "colab": {
   "provenance": []
  },
  "kernelspec": {
   "display_name": "Python 3 (ipykernel)",
   "language": "python",
   "name": "python3"
  },
  "language_info": {
   "codemirror_mode": {
    "name": "ipython",
    "version": 3
   },
   "file_extension": ".py",
   "mimetype": "text/x-python",
   "name": "python",
   "nbconvert_exporter": "python",
   "pygments_lexer": "ipython3",
   "version": "3.11.5"
  }
 },
 "nbformat": 4,
 "nbformat_minor": 1
}
